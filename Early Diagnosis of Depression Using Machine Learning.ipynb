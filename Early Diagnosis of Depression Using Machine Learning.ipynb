{
 "cells": [
  {
   "cell_type": "markdown",
   "id": "e9b597d0",
   "metadata": {},
   "source": [
    "# Early Diagnosis of Depression Using Machine Learning"
   ]
  },
  {
   "cell_type": "markdown",
   "id": "3ce768d5",
   "metadata": {},
   "source": [
    "## 1. Introduction\n",
    "\n",
    "### 1.1 Problem Statement\n",
    "Depression is a mental disorder that negatively affects the patient's behaviors, actions, and thoughts. It leads to a loss of interest, appetite, activity, sleep problems, and fatigue. Moreover, depression causes physical symptoms and can exacerbate certain illnesses or conditions. It is often a complication of chronic diseases such as diabetes, hypertension, cancer, stroke, and heart attack. According to the World Health Organization (WHO), 3.8% of the world's population is affected by depression, including 5% of adults. Given the significant impact of depression on individuals and public health, early diagnosis is crucial. Therefore, this project aimed to implement a machine learning model for the early diagnosis of depression.\n",
    "\n",
    "### 1.2 Objectives\n",
    "The primary objective of this project is to develop a machine learning model that accurately predicts whether an individual is suffering from depression based on their responses to a questionnaire. The specific goals are:\n",
    "    \n",
    "    1. To perform exploratory data analysis (EDA) to understand the distribution and relationships within the dataset.\n",
    "    2. To preprocess the data by handling missing values, encoding categorical variables, and scaling features.\n",
    "    3. To build and evaluate different machine learning models to determine the most effective one for predicting depression.\n",
    "    4. To interpret the model's predictions and identify the most important features contributing to the prediction of depression.\n",
    "    5. To provide insights and recommendations based on the model's findings to support early diagnosis and intervention strategies."
   ]
  },
  {
   "cell_type": "markdown",
   "id": "4a86c2e6",
   "metadata": {},
   "source": [
    "## 2. Data Understanding\n",
    "\n",
    "### 2.1 Dataset Description\n",
    "This project utilized a public online dataset available at Zindi, provided by the Busara Center for Behavioral Economics. The data is a collection of survey responses related to mental health in East Africa. It includes information about respondents’ demographic characteristics, socio-economic status, and mental health status.\n",
    "\n",
    "The dataset consists of 1143 records with 75 attributes, including the target class. The target variable is the participant's mental health status, a binary variable indicating whether the participant has a mental health condition or not. Out of 1143 participants, 193 have a mental health condition."
   ]
  },
  {
   "cell_type": "code",
   "execution_count": 117,
   "id": "4f689ee8",
   "metadata": {},
   "outputs": [],
   "source": [
    "import pandas as pd\n",
    "import matplotlib.pyplot as plt\n",
    "import seaborn as sns\n",
    "from sklearn import preprocessing \n",
    "from sklearn.preprocessing import * \n",
    "from sklearn.tree import DecisionTreeClassifier\n",
    "from sklearn.neighbors import KNeighborsClassifier\n",
    "from sklearn.ensemble import VotingClassifier\n",
    "from sklearn.svm import SVC"
   ]
  },
  {
   "cell_type": "code",
   "execution_count": 270,
   "id": "c27c57a5",
   "metadata": {},
   "outputs": [
    {
     "data": {
      "text/html": [
       "<div>\n",
       "<style scoped>\n",
       "    .dataframe tbody tr th:only-of-type {\n",
       "        vertical-align: middle;\n",
       "    }\n",
       "\n",
       "    .dataframe tbody tr th {\n",
       "        vertical-align: top;\n",
       "    }\n",
       "\n",
       "    .dataframe thead th {\n",
       "        text-align: right;\n",
       "    }\n",
       "</style>\n",
       "<table border=\"1\" class=\"dataframe\">\n",
       "  <thead>\n",
       "    <tr style=\"text-align: right;\">\n",
       "      <th></th>\n",
       "      <th>surveyid</th>\n",
       "      <th>village</th>\n",
       "      <th>survey_date</th>\n",
       "      <th>femaleres</th>\n",
       "      <th>age</th>\n",
       "      <th>married</th>\n",
       "      <th>children</th>\n",
       "      <th>hhsize</th>\n",
       "      <th>edu</th>\n",
       "      <th>hh_children</th>\n",
       "      <th>hh_totalmembers</th>\n",
       "      <th>cons_nondurable</th>\n",
       "      <th>asset_livestock</th>\n",
       "      <th>asset_durable</th>\n",
       "      <th>asset_phone</th>\n",
       "      <th>asset_savings</th>\n",
       "      <th>asset_land_owned_total</th>\n",
       "      <th>asset_niceroof</th>\n",
       "      <th>cons_allfood</th>\n",
       "      <th>cons_ownfood</th>\n",
       "      <th>cons_alcohol</th>\n",
       "      <th>cons_tobacco</th>\n",
       "      <th>cons_med_total</th>\n",
       "      <th>cons_med_children</th>\n",
       "      <th>cons_ed</th>\n",
       "      <th>cons_social</th>\n",
       "      <th>cons_other</th>\n",
       "      <th>ent_wagelabor</th>\n",
       "      <th>ent_ownfarm</th>\n",
       "      <th>ent_business</th>\n",
       "      <th>ent_nonagbusiness</th>\n",
       "      <th>ent_employees</th>\n",
       "      <th>ent_nonag_revenue</th>\n",
       "      <th>ent_nonag_flowcost</th>\n",
       "      <th>ent_farmrevenue</th>\n",
       "      <th>ent_farmexpenses</th>\n",
       "      <th>ent_animalstockrev</th>\n",
       "      <th>ent_total_cost</th>\n",
       "      <th>fs_adskipm_often</th>\n",
       "      <th>fs_adwholed_often</th>\n",
       "      <th>fs_chskipm_often</th>\n",
       "      <th>fs_chwholed_often</th>\n",
       "      <th>fs_meat</th>\n",
       "      <th>fs_enoughtom</th>\n",
       "      <th>fs_sleephun</th>\n",
       "      <th>med_expenses_hh_ep</th>\n",
       "      <th>med_expenses_sp_ep</th>\n",
       "      <th>med_expenses_child_ep</th>\n",
       "      <th>med_portion_sickinjured</th>\n",
       "      <th>med_port_sick_child</th>\n",
       "      <th>med_afford_port</th>\n",
       "      <th>med_sickdays_hhave</th>\n",
       "      <th>med_healthconsult</th>\n",
       "      <th>med_vacc_newborns</th>\n",
       "      <th>med_child_check</th>\n",
       "      <th>med_u5_deaths</th>\n",
       "      <th>ed_expenses</th>\n",
       "      <th>ed_expenses_perkid</th>\n",
       "      <th>ed_schoolattend</th>\n",
       "      <th>ed_sch_missedpc</th>\n",
       "      <th>ed_work_act_pc</th>\n",
       "      <th>labor_primary</th>\n",
       "      <th>wage_expenditures</th>\n",
       "      <th>durable_investment</th>\n",
       "      <th>nondurable_investment</th>\n",
       "      <th>given_mpesa</th>\n",
       "      <th>amount_given_mpesa</th>\n",
       "      <th>received_mpesa</th>\n",
       "      <th>amount_received_mpesa</th>\n",
       "      <th>net_mpesa</th>\n",
       "      <th>saved_mpesa</th>\n",
       "      <th>amount_saved_mpesa</th>\n",
       "      <th>early_survey</th>\n",
       "      <th>depressed</th>\n",
       "      <th>day_of_week</th>\n",
       "    </tr>\n",
       "  </thead>\n",
       "  <tbody>\n",
       "    <tr>\n",
       "      <th>0</th>\n",
       "      <td>926</td>\n",
       "      <td>91</td>\n",
       "      <td>23-Nov-61</td>\n",
       "      <td>1</td>\n",
       "      <td>28.0</td>\n",
       "      <td>1</td>\n",
       "      <td>4</td>\n",
       "      <td>6</td>\n",
       "      <td>10</td>\n",
       "      <td>0</td>\n",
       "      <td>NaN</td>\n",
       "      <td>0.00000</td>\n",
       "      <td>0.000000</td>\n",
       "      <td>0.00000</td>\n",
       "      <td>0.000000</td>\n",
       "      <td>0.000000</td>\n",
       "      <td>0.0</td>\n",
       "      <td>0</td>\n",
       "      <td>0.00000</td>\n",
       "      <td>0.000000</td>\n",
       "      <td>0.0</td>\n",
       "      <td>0.0</td>\n",
       "      <td>0.000000</td>\n",
       "      <td>NaN</td>\n",
       "      <td>0.000000</td>\n",
       "      <td>0.000000</td>\n",
       "      <td>0.000000</td>\n",
       "      <td>0</td>\n",
       "      <td>0</td>\n",
       "      <td>0</td>\n",
       "      <td>0</td>\n",
       "      <td>0</td>\n",
       "      <td>0.000000</td>\n",
       "      <td>0.0</td>\n",
       "      <td>0.000000</td>\n",
       "      <td>0.000000</td>\n",
       "      <td>0.000000</td>\n",
       "      <td>0.000000</td>\n",
       "      <td>0.0</td>\n",
       "      <td>0.0</td>\n",
       "      <td>NaN</td>\n",
       "      <td>NaN</td>\n",
       "      <td>NaN</td>\n",
       "      <td>NaN</td>\n",
       "      <td>NaN</td>\n",
       "      <td>NaN</td>\n",
       "      <td>NaN</td>\n",
       "      <td>NaN</td>\n",
       "      <td>NaN</td>\n",
       "      <td>NaN</td>\n",
       "      <td>NaN</td>\n",
       "      <td>NaN</td>\n",
       "      <td>NaN</td>\n",
       "      <td>1</td>\n",
       "      <td>1</td>\n",
       "      <td>NaN</td>\n",
       "      <td>NaN</td>\n",
       "      <td>NaN</td>\n",
       "      <td>NaN</td>\n",
       "      <td>NaN</td>\n",
       "      <td>NaN</td>\n",
       "      <td>0</td>\n",
       "      <td>0</td>\n",
       "      <td>0.00000</td>\n",
       "      <td>0.000000</td>\n",
       "      <td>0</td>\n",
       "      <td>0.0</td>\n",
       "      <td>0</td>\n",
       "      <td>0.000000</td>\n",
       "      <td>0.000000</td>\n",
       "      <td>1</td>\n",
       "      <td>0.000000</td>\n",
       "      <td>0</td>\n",
       "      <td>0</td>\n",
       "      <td>5</td>\n",
       "    </tr>\n",
       "    <tr>\n",
       "      <th>1</th>\n",
       "      <td>747</td>\n",
       "      <td>57</td>\n",
       "      <td>24-Oct-61</td>\n",
       "      <td>1</td>\n",
       "      <td>23.0</td>\n",
       "      <td>1</td>\n",
       "      <td>3</td>\n",
       "      <td>5</td>\n",
       "      <td>8</td>\n",
       "      <td>0</td>\n",
       "      <td>NaN</td>\n",
       "      <td>0.00000</td>\n",
       "      <td>0.000000</td>\n",
       "      <td>0.00000</td>\n",
       "      <td>0.000000</td>\n",
       "      <td>0.000000</td>\n",
       "      <td>0.0</td>\n",
       "      <td>0</td>\n",
       "      <td>0.00000</td>\n",
       "      <td>0.000000</td>\n",
       "      <td>0.0</td>\n",
       "      <td>0.0</td>\n",
       "      <td>0.000000</td>\n",
       "      <td>NaN</td>\n",
       "      <td>0.000000</td>\n",
       "      <td>0.000000</td>\n",
       "      <td>0.000000</td>\n",
       "      <td>0</td>\n",
       "      <td>0</td>\n",
       "      <td>0</td>\n",
       "      <td>0</td>\n",
       "      <td>0</td>\n",
       "      <td>0.000000</td>\n",
       "      <td>0.0</td>\n",
       "      <td>0.000000</td>\n",
       "      <td>0.000000</td>\n",
       "      <td>0.000000</td>\n",
       "      <td>0.000000</td>\n",
       "      <td>0.0</td>\n",
       "      <td>0.0</td>\n",
       "      <td>NaN</td>\n",
       "      <td>NaN</td>\n",
       "      <td>NaN</td>\n",
       "      <td>NaN</td>\n",
       "      <td>NaN</td>\n",
       "      <td>NaN</td>\n",
       "      <td>NaN</td>\n",
       "      <td>NaN</td>\n",
       "      <td>NaN</td>\n",
       "      <td>NaN</td>\n",
       "      <td>NaN</td>\n",
       "      <td>NaN</td>\n",
       "      <td>NaN</td>\n",
       "      <td>1</td>\n",
       "      <td>1</td>\n",
       "      <td>NaN</td>\n",
       "      <td>NaN</td>\n",
       "      <td>NaN</td>\n",
       "      <td>NaN</td>\n",
       "      <td>NaN</td>\n",
       "      <td>NaN</td>\n",
       "      <td>0</td>\n",
       "      <td>0</td>\n",
       "      <td>0.00000</td>\n",
       "      <td>0.000000</td>\n",
       "      <td>0</td>\n",
       "      <td>0.0</td>\n",
       "      <td>1</td>\n",
       "      <td>4.804611</td>\n",
       "      <td>4.804611</td>\n",
       "      <td>0</td>\n",
       "      <td>0.000000</td>\n",
       "      <td>0</td>\n",
       "      <td>1</td>\n",
       "      <td>3</td>\n",
       "    </tr>\n",
       "    <tr>\n",
       "      <th>2</th>\n",
       "      <td>1190</td>\n",
       "      <td>115</td>\n",
       "      <td>05-Oct-61</td>\n",
       "      <td>1</td>\n",
       "      <td>22.0</td>\n",
       "      <td>1</td>\n",
       "      <td>3</td>\n",
       "      <td>5</td>\n",
       "      <td>9</td>\n",
       "      <td>0</td>\n",
       "      <td>NaN</td>\n",
       "      <td>0.00000</td>\n",
       "      <td>0.000000</td>\n",
       "      <td>0.00000</td>\n",
       "      <td>0.000000</td>\n",
       "      <td>0.000000</td>\n",
       "      <td>0.0</td>\n",
       "      <td>0</td>\n",
       "      <td>0.00000</td>\n",
       "      <td>0.000000</td>\n",
       "      <td>0.0</td>\n",
       "      <td>0.0</td>\n",
       "      <td>0.000000</td>\n",
       "      <td>NaN</td>\n",
       "      <td>0.000000</td>\n",
       "      <td>0.000000</td>\n",
       "      <td>0.000000</td>\n",
       "      <td>0</td>\n",
       "      <td>0</td>\n",
       "      <td>0</td>\n",
       "      <td>0</td>\n",
       "      <td>0</td>\n",
       "      <td>0.000000</td>\n",
       "      <td>0.0</td>\n",
       "      <td>0.000000</td>\n",
       "      <td>0.000000</td>\n",
       "      <td>0.000000</td>\n",
       "      <td>0.000000</td>\n",
       "      <td>0.0</td>\n",
       "      <td>0.0</td>\n",
       "      <td>NaN</td>\n",
       "      <td>NaN</td>\n",
       "      <td>NaN</td>\n",
       "      <td>NaN</td>\n",
       "      <td>NaN</td>\n",
       "      <td>NaN</td>\n",
       "      <td>NaN</td>\n",
       "      <td>NaN</td>\n",
       "      <td>NaN</td>\n",
       "      <td>NaN</td>\n",
       "      <td>NaN</td>\n",
       "      <td>NaN</td>\n",
       "      <td>NaN</td>\n",
       "      <td>1</td>\n",
       "      <td>1</td>\n",
       "      <td>NaN</td>\n",
       "      <td>NaN</td>\n",
       "      <td>NaN</td>\n",
       "      <td>NaN</td>\n",
       "      <td>NaN</td>\n",
       "      <td>NaN</td>\n",
       "      <td>0</td>\n",
       "      <td>0</td>\n",
       "      <td>0.00000</td>\n",
       "      <td>0.000000</td>\n",
       "      <td>0</td>\n",
       "      <td>0.0</td>\n",
       "      <td>0</td>\n",
       "      <td>8.007685</td>\n",
       "      <td>8.007685</td>\n",
       "      <td>1</td>\n",
       "      <td>0.000000</td>\n",
       "      <td>0</td>\n",
       "      <td>0</td>\n",
       "      <td>5</td>\n",
       "    </tr>\n",
       "    <tr>\n",
       "      <th>3</th>\n",
       "      <td>1065</td>\n",
       "      <td>97</td>\n",
       "      <td>23-Sep-61</td>\n",
       "      <td>1</td>\n",
       "      <td>27.0</td>\n",
       "      <td>1</td>\n",
       "      <td>2</td>\n",
       "      <td>4</td>\n",
       "      <td>10</td>\n",
       "      <td>2</td>\n",
       "      <td>4.0</td>\n",
       "      <td>378.83292</td>\n",
       "      <td>526.671080</td>\n",
       "      <td>196.98904</td>\n",
       "      <td>24.023054</td>\n",
       "      <td>49.647648</td>\n",
       "      <td>0.0</td>\n",
       "      <td>0</td>\n",
       "      <td>289.17352</td>\n",
       "      <td>36.434967</td>\n",
       "      <td>0.0</td>\n",
       "      <td>0.0</td>\n",
       "      <td>4.163996</td>\n",
       "      <td>0.960922</td>\n",
       "      <td>1.681614</td>\n",
       "      <td>39.771500</td>\n",
       "      <td>44.042267</td>\n",
       "      <td>0</td>\n",
       "      <td>1</td>\n",
       "      <td>0</td>\n",
       "      <td>1</td>\n",
       "      <td>0</td>\n",
       "      <td>32.030739</td>\n",
       "      <td>0.0</td>\n",
       "      <td>22.288055</td>\n",
       "      <td>1.875133</td>\n",
       "      <td>16.282293</td>\n",
       "      <td>17.890503</td>\n",
       "      <td>0.0</td>\n",
       "      <td>0.0</td>\n",
       "      <td>0.0</td>\n",
       "      <td>0.0</td>\n",
       "      <td>3.0</td>\n",
       "      <td>1.0</td>\n",
       "      <td>1.0</td>\n",
       "      <td>NaN</td>\n",
       "      <td>NaN</td>\n",
       "      <td>NaN</td>\n",
       "      <td>0.000000</td>\n",
       "      <td>0.00</td>\n",
       "      <td>NaN</td>\n",
       "      <td>0.000000</td>\n",
       "      <td>NaN</td>\n",
       "      <td>1</td>\n",
       "      <td>1</td>\n",
       "      <td>NaN</td>\n",
       "      <td>20.179367</td>\n",
       "      <td>10.089684</td>\n",
       "      <td>0.50</td>\n",
       "      <td>1.50</td>\n",
       "      <td>0.00</td>\n",
       "      <td>0</td>\n",
       "      <td>0</td>\n",
       "      <td>778.11230</td>\n",
       "      <td>69.219765</td>\n",
       "      <td>0</td>\n",
       "      <td>0.0</td>\n",
       "      <td>0</td>\n",
       "      <td>0.000000</td>\n",
       "      <td>0.000000</td>\n",
       "      <td>1</td>\n",
       "      <td>1.249199</td>\n",
       "      <td>0</td>\n",
       "      <td>0</td>\n",
       "      <td>0</td>\n",
       "    </tr>\n",
       "    <tr>\n",
       "      <th>4</th>\n",
       "      <td>806</td>\n",
       "      <td>42</td>\n",
       "      <td>12-Sep-61</td>\n",
       "      <td>0</td>\n",
       "      <td>59.0</td>\n",
       "      <td>0</td>\n",
       "      <td>4</td>\n",
       "      <td>6</td>\n",
       "      <td>10</td>\n",
       "      <td>4</td>\n",
       "      <td>6.0</td>\n",
       "      <td>258.67188</td>\n",
       "      <td>8.260629</td>\n",
       "      <td>173.52654</td>\n",
       "      <td>19.218445</td>\n",
       "      <td>0.000000</td>\n",
       "      <td>0.5</td>\n",
       "      <td>0</td>\n",
       "      <td>173.01099</td>\n",
       "      <td>0.870168</td>\n",
       "      <td>0.0</td>\n",
       "      <td>0.0</td>\n",
       "      <td>0.800768</td>\n",
       "      <td>0.800768</td>\n",
       "      <td>2.268844</td>\n",
       "      <td>8.087762</td>\n",
       "      <td>74.503502</td>\n",
       "      <td>1</td>\n",
       "      <td>0</td>\n",
       "      <td>0</td>\n",
       "      <td>0</td>\n",
       "      <td>0</td>\n",
       "      <td>0.000000</td>\n",
       "      <td>0.0</td>\n",
       "      <td>0.533846</td>\n",
       "      <td>2.073101</td>\n",
       "      <td>0.000000</td>\n",
       "      <td>2.073101</td>\n",
       "      <td>0.0</td>\n",
       "      <td>0.0</td>\n",
       "      <td>0.0</td>\n",
       "      <td>0.0</td>\n",
       "      <td>2.0</td>\n",
       "      <td>0.0</td>\n",
       "      <td>0.0</td>\n",
       "      <td>NaN</td>\n",
       "      <td>NaN</td>\n",
       "      <td>1.233183</td>\n",
       "      <td>0.333333</td>\n",
       "      <td>0.25</td>\n",
       "      <td>0.5</td>\n",
       "      <td>1.166667</td>\n",
       "      <td>1.0</td>\n",
       "      <td>1</td>\n",
       "      <td>1</td>\n",
       "      <td>NaN</td>\n",
       "      <td>27.226130</td>\n",
       "      <td>6.806532</td>\n",
       "      <td>0.75</td>\n",
       "      <td>1.75</td>\n",
       "      <td>1.25</td>\n",
       "      <td>1</td>\n",
       "      <td>0</td>\n",
       "      <td>201.00562</td>\n",
       "      <td>4.341945</td>\n",
       "      <td>0</td>\n",
       "      <td>0.0</td>\n",
       "      <td>0</td>\n",
       "      <td>0.000000</td>\n",
       "      <td>0.000000</td>\n",
       "      <td>0</td>\n",
       "      <td>0.000000</td>\n",
       "      <td>0</td>\n",
       "      <td>0</td>\n",
       "      <td>3</td>\n",
       "    </tr>\n",
       "  </tbody>\n",
       "</table>\n",
       "</div>"
      ],
      "text/plain": [
       "   surveyid  village survey_date  femaleres   age  married  children  hhsize  \\\n",
       "0       926       91   23-Nov-61          1  28.0        1         4       6   \n",
       "1       747       57   24-Oct-61          1  23.0        1         3       5   \n",
       "2      1190      115   05-Oct-61          1  22.0        1         3       5   \n",
       "3      1065       97   23-Sep-61          1  27.0        1         2       4   \n",
       "4       806       42   12-Sep-61          0  59.0        0         4       6   \n",
       "\n",
       "   edu  hh_children  hh_totalmembers  cons_nondurable  asset_livestock  \\\n",
       "0   10            0              NaN          0.00000         0.000000   \n",
       "1    8            0              NaN          0.00000         0.000000   \n",
       "2    9            0              NaN          0.00000         0.000000   \n",
       "3   10            2              4.0        378.83292       526.671080   \n",
       "4   10            4              6.0        258.67188         8.260629   \n",
       "\n",
       "   asset_durable  asset_phone  asset_savings  asset_land_owned_total  \\\n",
       "0        0.00000     0.000000       0.000000                     0.0   \n",
       "1        0.00000     0.000000       0.000000                     0.0   \n",
       "2        0.00000     0.000000       0.000000                     0.0   \n",
       "3      196.98904    24.023054      49.647648                     0.0   \n",
       "4      173.52654    19.218445       0.000000                     0.5   \n",
       "\n",
       "   asset_niceroof  cons_allfood  cons_ownfood  cons_alcohol  cons_tobacco  \\\n",
       "0               0       0.00000      0.000000           0.0           0.0   \n",
       "1               0       0.00000      0.000000           0.0           0.0   \n",
       "2               0       0.00000      0.000000           0.0           0.0   \n",
       "3               0     289.17352     36.434967           0.0           0.0   \n",
       "4               0     173.01099      0.870168           0.0           0.0   \n",
       "\n",
       "   cons_med_total  cons_med_children   cons_ed  cons_social  cons_other  \\\n",
       "0        0.000000                NaN  0.000000     0.000000    0.000000   \n",
       "1        0.000000                NaN  0.000000     0.000000    0.000000   \n",
       "2        0.000000                NaN  0.000000     0.000000    0.000000   \n",
       "3        4.163996           0.960922  1.681614    39.771500   44.042267   \n",
       "4        0.800768           0.800768  2.268844     8.087762   74.503502   \n",
       "\n",
       "   ent_wagelabor  ent_ownfarm  ent_business  ent_nonagbusiness  ent_employees  \\\n",
       "0              0            0             0                  0              0   \n",
       "1              0            0             0                  0              0   \n",
       "2              0            0             0                  0              0   \n",
       "3              0            1             0                  1              0   \n",
       "4              1            0             0                  0              0   \n",
       "\n",
       "   ent_nonag_revenue  ent_nonag_flowcost  ent_farmrevenue  ent_farmexpenses  \\\n",
       "0           0.000000                 0.0         0.000000          0.000000   \n",
       "1           0.000000                 0.0         0.000000          0.000000   \n",
       "2           0.000000                 0.0         0.000000          0.000000   \n",
       "3          32.030739                 0.0        22.288055          1.875133   \n",
       "4           0.000000                 0.0         0.533846          2.073101   \n",
       "\n",
       "   ent_animalstockrev  ent_total_cost  fs_adskipm_often  fs_adwholed_often  \\\n",
       "0            0.000000        0.000000               0.0                0.0   \n",
       "1            0.000000        0.000000               0.0                0.0   \n",
       "2            0.000000        0.000000               0.0                0.0   \n",
       "3           16.282293       17.890503               0.0                0.0   \n",
       "4            0.000000        2.073101               0.0                0.0   \n",
       "\n",
       "   fs_chskipm_often  fs_chwholed_often  fs_meat  fs_enoughtom  fs_sleephun  \\\n",
       "0               NaN                NaN      NaN           NaN          NaN   \n",
       "1               NaN                NaN      NaN           NaN          NaN   \n",
       "2               NaN                NaN      NaN           NaN          NaN   \n",
       "3               0.0                0.0      3.0           1.0          1.0   \n",
       "4               0.0                0.0      2.0           0.0          0.0   \n",
       "\n",
       "   med_expenses_hh_ep  med_expenses_sp_ep  med_expenses_child_ep  \\\n",
       "0                 NaN                 NaN                    NaN   \n",
       "1                 NaN                 NaN                    NaN   \n",
       "2                 NaN                 NaN                    NaN   \n",
       "3                 NaN                 NaN                    NaN   \n",
       "4                 NaN                 NaN               1.233183   \n",
       "\n",
       "   med_portion_sickinjured  med_port_sick_child  med_afford_port  \\\n",
       "0                      NaN                  NaN              NaN   \n",
       "1                      NaN                  NaN              NaN   \n",
       "2                      NaN                  NaN              NaN   \n",
       "3                 0.000000                 0.00              NaN   \n",
       "4                 0.333333                 0.25              0.5   \n",
       "\n",
       "   med_sickdays_hhave  med_healthconsult  med_vacc_newborns  med_child_check  \\\n",
       "0                 NaN                NaN                  1                1   \n",
       "1                 NaN                NaN                  1                1   \n",
       "2                 NaN                NaN                  1                1   \n",
       "3            0.000000                NaN                  1                1   \n",
       "4            1.166667                1.0                  1                1   \n",
       "\n",
       "   med_u5_deaths  ed_expenses  ed_expenses_perkid  ed_schoolattend  \\\n",
       "0            NaN          NaN                 NaN              NaN   \n",
       "1            NaN          NaN                 NaN              NaN   \n",
       "2            NaN          NaN                 NaN              NaN   \n",
       "3            NaN    20.179367           10.089684             0.50   \n",
       "4            NaN    27.226130            6.806532             0.75   \n",
       "\n",
       "   ed_sch_missedpc  ed_work_act_pc  labor_primary  wage_expenditures  \\\n",
       "0              NaN             NaN              0                  0   \n",
       "1              NaN             NaN              0                  0   \n",
       "2              NaN             NaN              0                  0   \n",
       "3             1.50            0.00              0                  0   \n",
       "4             1.75            1.25              1                  0   \n",
       "\n",
       "   durable_investment  nondurable_investment  given_mpesa  amount_given_mpesa  \\\n",
       "0             0.00000               0.000000            0                 0.0   \n",
       "1             0.00000               0.000000            0                 0.0   \n",
       "2             0.00000               0.000000            0                 0.0   \n",
       "3           778.11230              69.219765            0                 0.0   \n",
       "4           201.00562               4.341945            0                 0.0   \n",
       "\n",
       "   received_mpesa  amount_received_mpesa  net_mpesa  saved_mpesa  \\\n",
       "0               0               0.000000   0.000000            1   \n",
       "1               1               4.804611   4.804611            0   \n",
       "2               0               8.007685   8.007685            1   \n",
       "3               0               0.000000   0.000000            1   \n",
       "4               0               0.000000   0.000000            0   \n",
       "\n",
       "   amount_saved_mpesa  early_survey  depressed  day_of_week  \n",
       "0            0.000000             0          0            5  \n",
       "1            0.000000             0          1            3  \n",
       "2            0.000000             0          0            5  \n",
       "3            1.249199             0          0            0  \n",
       "4            0.000000             0          0            3  "
      ]
     },
     "execution_count": 270,
     "metadata": {},
     "output_type": "execute_result"
    }
   ],
   "source": [
    "# Load data\n",
    "df = pd.read_csv('depression.csv')\n",
    "df.head()"
   ]
  },
  {
   "cell_type": "code",
   "execution_count": 23,
   "id": "d9a8b1ea",
   "metadata": {},
   "outputs": [
    {
     "data": {
      "text/plain": [
       "(1143, 75)"
      ]
     },
     "execution_count": 23,
     "metadata": {},
     "output_type": "execute_result"
    }
   ],
   "source": [
    "df.shape"
   ]
  },
  {
   "cell_type": "markdown",
   "id": "ff5bbf4f",
   "metadata": {},
   "source": [
    "### 2.2 Exploratory Data Analysis (EDA)"
   ]
  },
  {
   "cell_type": "markdown",
   "id": "ba1c6482",
   "metadata": {},
   "source": [
    "#### Basic Statistics and Structure"
   ]
  },
  {
   "cell_type": "code",
   "execution_count": 24,
   "id": "30740f66",
   "metadata": {},
   "outputs": [
    {
     "data": {
      "text/html": [
       "<div>\n",
       "<style scoped>\n",
       "    .dataframe tbody tr th:only-of-type {\n",
       "        vertical-align: middle;\n",
       "    }\n",
       "\n",
       "    .dataframe tbody tr th {\n",
       "        vertical-align: top;\n",
       "    }\n",
       "\n",
       "    .dataframe thead th {\n",
       "        text-align: right;\n",
       "    }\n",
       "</style>\n",
       "<table border=\"1\" class=\"dataframe\">\n",
       "  <thead>\n",
       "    <tr style=\"text-align: right;\">\n",
       "      <th></th>\n",
       "      <th>surveyid</th>\n",
       "      <th>village</th>\n",
       "      <th>femaleres</th>\n",
       "      <th>age</th>\n",
       "      <th>married</th>\n",
       "      <th>children</th>\n",
       "      <th>hhsize</th>\n",
       "      <th>edu</th>\n",
       "      <th>hh_children</th>\n",
       "      <th>hh_totalmembers</th>\n",
       "      <th>...</th>\n",
       "      <th>given_mpesa</th>\n",
       "      <th>amount_given_mpesa</th>\n",
       "      <th>received_mpesa</th>\n",
       "      <th>amount_received_mpesa</th>\n",
       "      <th>net_mpesa</th>\n",
       "      <th>saved_mpesa</th>\n",
       "      <th>amount_saved_mpesa</th>\n",
       "      <th>early_survey</th>\n",
       "      <th>depressed</th>\n",
       "      <th>day_of_week</th>\n",
       "    </tr>\n",
       "  </thead>\n",
       "  <tbody>\n",
       "    <tr>\n",
       "      <th>count</th>\n",
       "      <td>1143.000000</td>\n",
       "      <td>1143.000000</td>\n",
       "      <td>1143.000000</td>\n",
       "      <td>1143.000000</td>\n",
       "      <td>1143.000000</td>\n",
       "      <td>1143.000000</td>\n",
       "      <td>1143.000000</td>\n",
       "      <td>1143.000000</td>\n",
       "      <td>1143.000000</td>\n",
       "      <td>809.000000</td>\n",
       "      <td>...</td>\n",
       "      <td>1143.000000</td>\n",
       "      <td>1143.000000</td>\n",
       "      <td>1143.000000</td>\n",
       "      <td>1143.000000</td>\n",
       "      <td>1143.000000</td>\n",
       "      <td>1143.000000</td>\n",
       "      <td>1143.000000</td>\n",
       "      <td>1143.000000</td>\n",
       "      <td>1143.000000</td>\n",
       "      <td>1143.000000</td>\n",
       "    </tr>\n",
       "    <tr>\n",
       "      <th>mean</th>\n",
       "      <td>715.927384</td>\n",
       "      <td>76.409449</td>\n",
       "      <td>0.916885</td>\n",
       "      <td>34.537270</td>\n",
       "      <td>0.772528</td>\n",
       "      <td>2.860017</td>\n",
       "      <td>4.869641</td>\n",
       "      <td>8.735783</td>\n",
       "      <td>2.018373</td>\n",
       "      <td>4.906057</td>\n",
       "      <td>...</td>\n",
       "      <td>0.015748</td>\n",
       "      <td>0.553462</td>\n",
       "      <td>0.066492</td>\n",
       "      <td>3.564576</td>\n",
       "      <td>3.011114</td>\n",
       "      <td>0.188976</td>\n",
       "      <td>2.269096</td>\n",
       "      <td>0.097988</td>\n",
       "      <td>0.168854</td>\n",
       "      <td>3.295713</td>\n",
       "    </tr>\n",
       "    <tr>\n",
       "      <th>std</th>\n",
       "      <td>415.694525</td>\n",
       "      <td>66.788138</td>\n",
       "      <td>0.276176</td>\n",
       "      <td>13.742107</td>\n",
       "      <td>0.419383</td>\n",
       "      <td>1.846946</td>\n",
       "      <td>2.121852</td>\n",
       "      <td>2.867202</td>\n",
       "      <td>2.016702</td>\n",
       "      <td>2.099287</td>\n",
       "      <td>...</td>\n",
       "      <td>0.124554</td>\n",
       "      <td>6.489140</td>\n",
       "      <td>0.249249</td>\n",
       "      <td>24.950902</td>\n",
       "      <td>25.840639</td>\n",
       "      <td>0.391661</td>\n",
       "      <td>19.676268</td>\n",
       "      <td>0.297428</td>\n",
       "      <td>0.374787</td>\n",
       "      <td>1.684910</td>\n",
       "    </tr>\n",
       "    <tr>\n",
       "      <th>min</th>\n",
       "      <td>1.000000</td>\n",
       "      <td>1.000000</td>\n",
       "      <td>0.000000</td>\n",
       "      <td>17.000000</td>\n",
       "      <td>0.000000</td>\n",
       "      <td>0.000000</td>\n",
       "      <td>1.000000</td>\n",
       "      <td>1.000000</td>\n",
       "      <td>0.000000</td>\n",
       "      <td>1.000000</td>\n",
       "      <td>...</td>\n",
       "      <td>0.000000</td>\n",
       "      <td>0.000000</td>\n",
       "      <td>0.000000</td>\n",
       "      <td>0.000000</td>\n",
       "      <td>-160.153700</td>\n",
       "      <td>0.000000</td>\n",
       "      <td>0.000000</td>\n",
       "      <td>0.000000</td>\n",
       "      <td>0.000000</td>\n",
       "      <td>0.000000</td>\n",
       "    </tr>\n",
       "    <tr>\n",
       "      <th>25%</th>\n",
       "      <td>351.500000</td>\n",
       "      <td>23.000000</td>\n",
       "      <td>1.000000</td>\n",
       "      <td>24.000000</td>\n",
       "      <td>1.000000</td>\n",
       "      <td>2.000000</td>\n",
       "      <td>3.000000</td>\n",
       "      <td>8.000000</td>\n",
       "      <td>0.000000</td>\n",
       "      <td>3.000000</td>\n",
       "      <td>...</td>\n",
       "      <td>0.000000</td>\n",
       "      <td>0.000000</td>\n",
       "      <td>0.000000</td>\n",
       "      <td>0.000000</td>\n",
       "      <td>0.000000</td>\n",
       "      <td>0.000000</td>\n",
       "      <td>0.000000</td>\n",
       "      <td>0.000000</td>\n",
       "      <td>0.000000</td>\n",
       "      <td>2.000000</td>\n",
       "    </tr>\n",
       "    <tr>\n",
       "      <th>50%</th>\n",
       "      <td>717.000000</td>\n",
       "      <td>57.000000</td>\n",
       "      <td>1.000000</td>\n",
       "      <td>30.000000</td>\n",
       "      <td>1.000000</td>\n",
       "      <td>3.000000</td>\n",
       "      <td>5.000000</td>\n",
       "      <td>9.000000</td>\n",
       "      <td>2.000000</td>\n",
       "      <td>5.000000</td>\n",
       "      <td>...</td>\n",
       "      <td>0.000000</td>\n",
       "      <td>0.000000</td>\n",
       "      <td>0.000000</td>\n",
       "      <td>0.000000</td>\n",
       "      <td>0.000000</td>\n",
       "      <td>0.000000</td>\n",
       "      <td>0.000000</td>\n",
       "      <td>0.000000</td>\n",
       "      <td>0.000000</td>\n",
       "      <td>3.000000</td>\n",
       "    </tr>\n",
       "    <tr>\n",
       "      <th>75%</th>\n",
       "      <td>1078.500000</td>\n",
       "      <td>105.500000</td>\n",
       "      <td>1.000000</td>\n",
       "      <td>41.000000</td>\n",
       "      <td>1.000000</td>\n",
       "      <td>4.000000</td>\n",
       "      <td>6.000000</td>\n",
       "      <td>10.000000</td>\n",
       "      <td>3.000000</td>\n",
       "      <td>6.000000</td>\n",
       "      <td>...</td>\n",
       "      <td>0.000000</td>\n",
       "      <td>0.000000</td>\n",
       "      <td>0.000000</td>\n",
       "      <td>0.000000</td>\n",
       "      <td>0.000000</td>\n",
       "      <td>0.000000</td>\n",
       "      <td>0.000000</td>\n",
       "      <td>0.000000</td>\n",
       "      <td>0.000000</td>\n",
       "      <td>5.000000</td>\n",
       "    </tr>\n",
       "    <tr>\n",
       "      <th>max</th>\n",
       "      <td>1429.000000</td>\n",
       "      <td>292.000000</td>\n",
       "      <td>1.000000</td>\n",
       "      <td>91.000000</td>\n",
       "      <td>1.000000</td>\n",
       "      <td>10.000000</td>\n",
       "      <td>12.000000</td>\n",
       "      <td>19.000000</td>\n",
       "      <td>10.000000</td>\n",
       "      <td>12.000000</td>\n",
       "      <td>...</td>\n",
       "      <td>1.000000</td>\n",
       "      <td>160.153700</td>\n",
       "      <td>1.000000</td>\n",
       "      <td>352.338130</td>\n",
       "      <td>352.338130</td>\n",
       "      <td>1.000000</td>\n",
       "      <td>488.468780</td>\n",
       "      <td>1.000000</td>\n",
       "      <td>1.000000</td>\n",
       "      <td>6.000000</td>\n",
       "    </tr>\n",
       "  </tbody>\n",
       "</table>\n",
       "<p>8 rows × 74 columns</p>\n",
       "</div>"
      ],
      "text/plain": [
       "          surveyid      village    femaleres          age      married  \\\n",
       "count  1143.000000  1143.000000  1143.000000  1143.000000  1143.000000   \n",
       "mean    715.927384    76.409449     0.916885    34.537270     0.772528   \n",
       "std     415.694525    66.788138     0.276176    13.742107     0.419383   \n",
       "min       1.000000     1.000000     0.000000    17.000000     0.000000   \n",
       "25%     351.500000    23.000000     1.000000    24.000000     1.000000   \n",
       "50%     717.000000    57.000000     1.000000    30.000000     1.000000   \n",
       "75%    1078.500000   105.500000     1.000000    41.000000     1.000000   \n",
       "max    1429.000000   292.000000     1.000000    91.000000     1.000000   \n",
       "\n",
       "          children       hhsize          edu  hh_children  hh_totalmembers  \\\n",
       "count  1143.000000  1143.000000  1143.000000  1143.000000       809.000000   \n",
       "mean      2.860017     4.869641     8.735783     2.018373         4.906057   \n",
       "std       1.846946     2.121852     2.867202     2.016702         2.099287   \n",
       "min       0.000000     1.000000     1.000000     0.000000         1.000000   \n",
       "25%       2.000000     3.000000     8.000000     0.000000         3.000000   \n",
       "50%       3.000000     5.000000     9.000000     2.000000         5.000000   \n",
       "75%       4.000000     6.000000    10.000000     3.000000         6.000000   \n",
       "max      10.000000    12.000000    19.000000    10.000000        12.000000   \n",
       "\n",
       "       ...  given_mpesa  amount_given_mpesa  received_mpesa  \\\n",
       "count  ...  1143.000000         1143.000000     1143.000000   \n",
       "mean   ...     0.015748            0.553462        0.066492   \n",
       "std    ...     0.124554            6.489140        0.249249   \n",
       "min    ...     0.000000            0.000000        0.000000   \n",
       "25%    ...     0.000000            0.000000        0.000000   \n",
       "50%    ...     0.000000            0.000000        0.000000   \n",
       "75%    ...     0.000000            0.000000        0.000000   \n",
       "max    ...     1.000000          160.153700        1.000000   \n",
       "\n",
       "       amount_received_mpesa    net_mpesa  saved_mpesa  amount_saved_mpesa  \\\n",
       "count            1143.000000  1143.000000  1143.000000         1143.000000   \n",
       "mean                3.564576     3.011114     0.188976            2.269096   \n",
       "std                24.950902    25.840639     0.391661           19.676268   \n",
       "min                 0.000000  -160.153700     0.000000            0.000000   \n",
       "25%                 0.000000     0.000000     0.000000            0.000000   \n",
       "50%                 0.000000     0.000000     0.000000            0.000000   \n",
       "75%                 0.000000     0.000000     0.000000            0.000000   \n",
       "max               352.338130   352.338130     1.000000          488.468780   \n",
       "\n",
       "       early_survey    depressed  day_of_week  \n",
       "count   1143.000000  1143.000000  1143.000000  \n",
       "mean       0.097988     0.168854     3.295713  \n",
       "std        0.297428     0.374787     1.684910  \n",
       "min        0.000000     0.000000     0.000000  \n",
       "25%        0.000000     0.000000     2.000000  \n",
       "50%        0.000000     0.000000     3.000000  \n",
       "75%        0.000000     0.000000     5.000000  \n",
       "max        1.000000     1.000000     6.000000  \n",
       "\n",
       "[8 rows x 74 columns]"
      ]
     },
     "execution_count": 24,
     "metadata": {},
     "output_type": "execute_result"
    }
   ],
   "source": [
    "# Basic statistics\n",
    "df.describe()"
   ]
  },
  {
   "cell_type": "code",
   "execution_count": 25,
   "id": "433e3e20",
   "metadata": {},
   "outputs": [
    {
     "name": "stdout",
     "output_type": "stream",
     "text": [
      "<class 'pandas.core.frame.DataFrame'>\n",
      "RangeIndex: 1143 entries, 0 to 1142\n",
      "Data columns (total 75 columns):\n",
      " #   Column                   Non-Null Count  Dtype  \n",
      "---  ------                   --------------  -----  \n",
      " 0   surveyid                 1143 non-null   int64  \n",
      " 1   village                  1143 non-null   int64  \n",
      " 2   survey_date              1143 non-null   object \n",
      " 3   femaleres                1143 non-null   int64  \n",
      " 4   age                      1143 non-null   float64\n",
      " 5   married                  1143 non-null   int64  \n",
      " 6   children                 1143 non-null   int64  \n",
      " 7   hhsize                   1143 non-null   int64  \n",
      " 8   edu                      1143 non-null   int64  \n",
      " 9   hh_children              1143 non-null   int64  \n",
      " 10  hh_totalmembers          809 non-null    float64\n",
      " 11  cons_nondurable          1143 non-null   float64\n",
      " 12  asset_livestock          1143 non-null   float64\n",
      " 13  asset_durable            1143 non-null   float64\n",
      " 14  asset_phone              1143 non-null   float64\n",
      " 15  asset_savings            1143 non-null   float64\n",
      " 16  asset_land_owned_total   1143 non-null   float64\n",
      " 17  asset_niceroof           1143 non-null   int64  \n",
      " 18  cons_allfood             1143 non-null   float64\n",
      " 19  cons_ownfood             1143 non-null   float64\n",
      " 20  cons_alcohol             1100 non-null   float64\n",
      " 21  cons_tobacco             1123 non-null   float64\n",
      " 22  cons_med_total           1143 non-null   float64\n",
      " 23  cons_med_children        724 non-null    float64\n",
      " 24  cons_ed                  1143 non-null   float64\n",
      " 25  cons_social              1143 non-null   float64\n",
      " 26  cons_other               1143 non-null   float64\n",
      " 27  ent_wagelabor            1143 non-null   int64  \n",
      " 28  ent_ownfarm              1143 non-null   int64  \n",
      " 29  ent_business             1143 non-null   int64  \n",
      " 30  ent_nonagbusiness        1143 non-null   int64  \n",
      " 31  ent_employees            1143 non-null   int64  \n",
      " 32  ent_nonag_revenue        1143 non-null   float64\n",
      " 33  ent_nonag_flowcost       1143 non-null   float64\n",
      " 34  ent_farmrevenue          1143 non-null   float64\n",
      " 35  ent_farmexpenses         1143 non-null   float64\n",
      " 36  ent_animalstockrev       1143 non-null   float64\n",
      " 37  ent_total_cost           1143 non-null   float64\n",
      " 38  fs_adskipm_often         1143 non-null   float64\n",
      " 39  fs_adwholed_often        1143 non-null   float64\n",
      " 40  fs_chskipm_often         727 non-null    float64\n",
      " 41  fs_chwholed_often        727 non-null    float64\n",
      " 42  fs_meat                  809 non-null    float64\n",
      " 43  fs_enoughtom             809 non-null    float64\n",
      " 44  fs_sleephun              809 non-null    float64\n",
      " 45  med_expenses_hh_ep       450 non-null    float64\n",
      " 46  med_expenses_sp_ep       265 non-null    float64\n",
      " 47  med_expenses_child_ep    543 non-null    float64\n",
      " 48  med_portion_sickinjured  809 non-null    float64\n",
      " 49  med_port_sick_child      727 non-null    float64\n",
      " 50  med_afford_port          720 non-null    float64\n",
      " 51  med_sickdays_hhave       809 non-null    float64\n",
      " 52  med_healthconsult        720 non-null    float64\n",
      " 53  med_vacc_newborns        1143 non-null   int64  \n",
      " 54  med_child_check          1143 non-null   int64  \n",
      " 55  med_u5_deaths            59 non-null     float64\n",
      " 56  ed_expenses              680 non-null    float64\n",
      " 57  ed_expenses_perkid       680 non-null    float64\n",
      " 58  ed_schoolattend          680 non-null    float64\n",
      " 59  ed_sch_missedpc          676 non-null    float64\n",
      " 60  ed_work_act_pc           572 non-null    float64\n",
      " 61  labor_primary            1143 non-null   int64  \n",
      " 62  wage_expenditures        1143 non-null   int64  \n",
      " 63  durable_investment       1143 non-null   float64\n",
      " 64  nondurable_investment    1143 non-null   float64\n",
      " 65  given_mpesa              1143 non-null   int64  \n",
      " 66  amount_given_mpesa       1143 non-null   float64\n",
      " 67  received_mpesa           1143 non-null   int64  \n",
      " 68  amount_received_mpesa    1143 non-null   float64\n",
      " 69  net_mpesa                1143 non-null   float64\n",
      " 70  saved_mpesa              1143 non-null   int64  \n",
      " 71  amount_saved_mpesa       1143 non-null   float64\n",
      " 72  early_survey             1143 non-null   int64  \n",
      " 73  depressed                1143 non-null   int64  \n",
      " 74  day_of_week              1143 non-null   int64  \n",
      "dtypes: float64(50), int64(24), object(1)\n",
      "memory usage: 669.9+ KB\n"
     ]
    }
   ],
   "source": [
    "# Data information\n",
    "df.info()"
   ]
  },
  {
   "cell_type": "markdown",
   "id": "a9277eca",
   "metadata": {},
   "source": [
    "#### Missing Values"
   ]
  },
  {
   "cell_type": "code",
   "execution_count": 26,
   "id": "f948c2a2",
   "metadata": {},
   "outputs": [
    {
     "data": {
      "text/plain": [
       "hh_totalmembers             334\n",
       "cons_alcohol                 43\n",
       "cons_tobacco                 20\n",
       "cons_med_children           419\n",
       "fs_chskipm_often            416\n",
       "fs_chwholed_often           416\n",
       "fs_meat                     334\n",
       "fs_enoughtom                334\n",
       "fs_sleephun                 334\n",
       "med_expenses_hh_ep          693\n",
       "med_expenses_sp_ep          878\n",
       "med_expenses_child_ep       600\n",
       "med_portion_sickinjured     334\n",
       "med_port_sick_child         416\n",
       "med_afford_port             423\n",
       "med_sickdays_hhave          334\n",
       "med_healthconsult           423\n",
       "med_u5_deaths              1084\n",
       "ed_expenses                 463\n",
       "ed_expenses_perkid          463\n",
       "ed_schoolattend             463\n",
       "ed_sch_missedpc             467\n",
       "ed_work_act_pc              571\n",
       "dtype: int64"
      ]
     },
     "execution_count": 26,
     "metadata": {},
     "output_type": "execute_result"
    }
   ],
   "source": [
    "# Check for missing values\n",
    "missing_values = df.isnull().sum()\n",
    "missing_values[missing_values > 0]"
   ]
  },
  {
   "cell_type": "markdown",
   "id": "c00a7f35",
   "metadata": {},
   "source": [
    "#### Target Variable Distribution"
   ]
  },
  {
   "cell_type": "code",
   "execution_count": 27,
   "id": "a06a91bb",
   "metadata": {
    "scrolled": true
   },
   "outputs": [
    {
     "name": "stderr",
     "output_type": "stream",
     "text": [
      "/Users/rana/opt/anaconda3/lib/python3.9/site-packages/seaborn/_decorators.py:36: FutureWarning: Pass the following variable as a keyword arg: x. From version 0.12, the only valid positional argument will be `data`, and passing other arguments without an explicit keyword will result in an error or misinterpretation.\n",
      "  warnings.warn(\n"
     ]
    },
    {
     "data": {
      "image/png": "[encoded data removed]",
      "text/plain": [
       "<Figure size 640x480 with 1 Axes>"
      ]
     },
     "metadata": {},
     "output_type": "display_data"
    }
   ],
   "source": [
    "# Target variable distribution\n",
    "sns.countplot(df['depressed'])\n",
    "plt.title('Target Variable Distribution')\n",
    "plt.xlabel('Depressed')\n",
    "plt.ylabel('Count')\n",
    "plt.show()"
   ]
  },
  {
   "cell_type": "markdown",
   "id": "f26bdc64",
   "metadata": {},
   "source": [
    "The bar chart shows the distribution of the target variable depressed:\n",
    "\n",
    "Not Depressed (0): ~900 participants\n",
    "Depressed (1): ~200 participants\n",
    "\n",
    "Key Observation\n",
    "Class Imbalance: The dataset has more participants who are not depressed compared to those who are depressed. This imbalance needs to be addressed in model building to ensure accurate predictions."
   ]
  },
  {
   "cell_type": "markdown",
   "id": "d83f026a",
   "metadata": {},
   "source": [
    "#### Feature Distribution\n",
    "Let's visualize the distribution of some key features:"
   ]
  },
  {
   "cell_type": "code",
   "execution_count": 28,
   "id": "ed89673a",
   "metadata": {},
   "outputs": [
    {
     "data": {
      "image/png": "[encoded data removed]",
      "text/plain": [
       "<Figure size 640x480 with 1 Axes>"
      ]
     },
     "metadata": {},
     "output_type": "display_data"
    }
   ],
   "source": [
    "# Age distribution\n",
    "sns.histplot(df['age'], bins=20, kde=True)\n",
    "plt.title('Age Distribution')\n",
    "plt.xlabel('Age')\n",
    "plt.ylabel('Count')\n",
    "plt.show()\n"
   ]
  },
  {
   "cell_type": "markdown",
   "id": "c2c2b6f6",
   "metadata": {},
   "source": [
    "### Age Distribution Explanation\n",
    "\n",
    "The histogram shows the age distribution of participants in the dataset:\n",
    "\n",
    "- **Peak Age Group**: Most participants are in their early 20s, with the highest count around age 23.\n",
    "- **Age Range**: The ages range from 20 to around 90, but the majority are under 50.\n",
    "\n",
    "### Key Observation\n",
    "\n",
    "- **Young Population**: The dataset is skewed towards younger individuals, which may influence the analysis and model predictions related to depression."
   ]
  },
  {
   "cell_type": "code",
   "execution_count": 29,
   "id": "9b15aff0",
   "metadata": {
    "scrolled": false
   },
   "outputs": [
    {
     "data": {
      "image/png": "[encoded data removed]",
      "text/plain": [
       "<Figure size 640x480 with 1 Axes>"
      ]
     },
     "metadata": {},
     "output_type": "display_data"
    }
   ],
   "source": [
    "# Household size distribution\n",
    "sns.histplot(df['hhsize'], bins=10, kde=True)\n",
    "plt.title('Household Size Distribution')\n",
    "plt.xlabel('Household Size')\n",
    "plt.ylabel('Count')\n",
    "plt.show()"
   ]
  },
  {
   "cell_type": "markdown",
   "id": "4b4c166a",
   "metadata": {},
   "source": [
    "### Household Size Distribution Explanation\n",
    "\n",
    "The histogram shows the distribution of household sizes among participants in the dataset:\n",
    "\n",
    "- **Peak Household Size**: Most households have 4 to 5 members, with the highest count around 4 members.\n",
    "- **Household Size Range**: Household sizes range from 1 to 12 members, but the majority are between 2 and 8 members.\n",
    "\n",
    "### Key Observation\n",
    "\n",
    "- **Common Household Size**: The dataset is centered around households with 4 to 5 members, which may influence how household size relates to depression in the analysis."
   ]
  },
  {
   "cell_type": "code",
   "execution_count": 30,
   "id": "65f904d9",
   "metadata": {
    "scrolled": true
   },
   "outputs": [
    {
     "name": "stderr",
     "output_type": "stream",
     "text": [
      "/Users/rana/opt/anaconda3/lib/python3.9/site-packages/seaborn/_decorators.py:36: FutureWarning: Pass the following variable as a keyword arg: x. From version 0.12, the only valid positional argument will be `data`, and passing other arguments without an explicit keyword will result in an error or misinterpretation.\n",
      "  warnings.warn(\n"
     ]
    },
    {
     "data": {
      "image/png": "[encoded data removed]",
      "text/plain": [
       "<Figure size 640x480 with 1 Axes>"
      ]
     },
     "metadata": {},
     "output_type": "display_data"
    }
   ],
   "source": [
    "# Education level distribution\n",
    "sns.countplot(df['edu'])\n",
    "plt.title('Education Level Distribution')\n",
    "plt.xlabel('Education Level')\n",
    "plt.ylabel('Count')\n",
    "plt.show()"
   ]
  },
  {
   "cell_type": "markdown",
   "id": "009eecd7",
   "metadata": {},
   "source": [
    "### Education Level Distribution Explanation\n",
    "\n",
    "The bar chart shows the distribution of education levels among participants in the dataset:\n",
    "\n",
    "- **Most Common Education Level**: The highest count is at education level 10, with more than 350 participants.\n",
    "- **Range of Education Levels**: Education levels range from 1 to 19, but the majority of participants are clustered around levels 6 to 12.\n",
    "\n",
    "### Key Observation\n",
    "\n",
    "- **Peak at Level 10**: Education level 10 is the most common among participants, significantly higher than other levels, which may influence how education relates to depression in the analysis."
   ]
  },
  {
   "cell_type": "markdown",
   "id": "1c8e0d80",
   "metadata": {},
   "source": [
    "#### Relationship Between Features and Target Variable\n",
    "Let's examine the relationship between some key features and the target variable `depressed`."
   ]
  },
  {
   "cell_type": "code",
   "execution_count": 31,
   "id": "68935dae",
   "metadata": {
    "scrolled": true
   },
   "outputs": [
    {
     "data": {
      "image/png": "[encoded data removed]",
      "text/plain": [
       "<Figure size 640x480 with 1 Axes>"
      ]
     },
     "metadata": {},
     "output_type": "display_data"
    }
   ],
   "source": [
    "# Relationship between age and depression\n",
    "sns.boxplot(x='depressed', y='age', data=df)\n",
    "plt.title('Age vs Depression')\n",
    "plt.xlabel('Depressed')\n",
    "plt.ylabel('Age')\n",
    "plt.show()"
   ]
  },
  {
   "cell_type": "markdown",
   "id": "e843f01f",
   "metadata": {},
   "source": [
    "### Age vs Depression Explanation\n",
    "\n",
    "The boxplot compares the age distribution between participants who are not depressed (0) and those who are depressed (1):\n",
    "\n",
    "- **Non-Depressed (0)**: The median age is around 30 years, with most participants aged between 20 and 40. There are several outliers above 60.\n",
    "- **Depressed (1)**: The median age is slightly higher, around 35 years, with most participants aged between 25 and 45. There are also outliers above 60.\n",
    "\n",
    "### Key Observation\n",
    "\n",
    "- **Age Difference**: Participants with depression tend to be slightly older than those without, with a wider age range. This suggests age might play a role in the likelihood of experiencing depression."
   ]
  },
  {
   "cell_type": "code",
   "execution_count": 32,
   "id": "a5017586",
   "metadata": {
    "scrolled": true
   },
   "outputs": [
    {
     "data": {
      "image/png": "[encoded data removed]",
      "text/plain": [
       "<Figure size 640x480 with 1 Axes>"
      ]
     },
     "metadata": {},
     "output_type": "display_data"
    }
   ],
   "source": [
    "# Relationship between household size and depression\n",
    "sns.boxplot(x='depressed', y='hhsize', data=df)\n",
    "plt.title('Household Size vs Depression')\n",
    "plt.xlabel('Depressed')\n",
    "plt.ylabel('Household Size')\n",
    "plt.show()"
   ]
  },
  {
   "cell_type": "markdown",
   "id": "fa58118c",
   "metadata": {},
   "source": [
    "### Household Size vs Depression Explanation\n",
    "\n",
    "The boxplot compares the household size distribution between participants who are not depressed (0) and those who are depressed (1):\n",
    "\n",
    "- **Non-Depressed (0)**: The median household size is 5 members, with most households having between 4 and 6 members. There are outliers with household sizes above 10.\n",
    "- **Depressed (1)**: The median household size is slightly smaller, around 4 members, with most households having between 4 and 6 members. There are outliers with household sizes above 10.\n",
    "\n",
    "### Key Observation\n",
    "\n",
    "- **Similar Household Sizes**: Both groups have similar household size distributions, though non-depressed participants tend to have slightly larger households on average. Household size appears to have a minor impact on depression status."
   ]
  },
  {
   "cell_type": "code",
   "execution_count": 33,
   "id": "e61c2bf5",
   "metadata": {},
   "outputs": [
    {
     "data": {
      "image/png": "[encoded data removed]",
      "text/plain": [
       "<Figure size 640x480 with 1 Axes>"
      ]
     },
     "metadata": {},
     "output_type": "display_data"
    }
   ],
   "source": [
    "# Relationship between education level and depression\n",
    "sns.countplot(x='edu', hue='depressed', data=df)\n",
    "plt.title('Education Level vs Depression')\n",
    "plt.xlabel('Education Level')\n",
    "plt.ylabel('Count')\n",
    "plt.show()"
   ]
  },
  {
   "cell_type": "markdown",
   "id": "917c6df6",
   "metadata": {},
   "source": [
    "### Education Level vs Depression Explanation\n",
    "\n",
    "The bar chart compares the education level distribution between participants who are not depressed (0) and those who are depressed (1):\n",
    "\n",
    "- **Most Common Education Level**: Education level 10 has the highest count for both non-depressed and depressed participants, with a significantly larger number of non-depressed participants.\n",
    "- **Depression Distribution**: While most education levels have a higher count of non-depressed participants, there is a noticeable presence of depressed participants across various education levels, especially around levels 8, 9, and 10.\n",
    "\n",
    "### Key Observation\n",
    "\n",
    "- **High Counts in Mid Education Levels**: Education levels around 8, 9, and 10 show a substantial number of participants, both depressed and non-depressed. The distribution indicates that education level may have an influence on depression, but other factors likely play a significant role as well."
   ]
  },
  {
   "cell_type": "markdown",
   "id": "5abe3959",
   "metadata": {},
   "source": [
    "## 3. Data Preprocessing\n",
    "\n"
   ]
  },
  {
   "cell_type": "markdown",
   "id": "fc982aee",
   "metadata": {},
   "source": [
    "### 3.1. Handling Missing Values: "
   ]
  },
  {
   "cell_type": "markdown",
   "id": "f77f3af5",
   "metadata": {},
   "source": [
    "#### Dropping unnessary columns"
   ]
  },
  {
   "cell_type": "code",
   "execution_count": 271,
   "id": "5173f64b",
   "metadata": {},
   "outputs": [
    {
     "data": {
      "text/plain": [
       "(1143, 71)"
      ]
     },
     "execution_count": 271,
     "metadata": {},
     "output_type": "execute_result"
    }
   ],
   "source": [
    "df.drop(['surveyid', 'village', 'survey_date', 'day_of_week'], axis=1, inplace = True)\n",
    "df.shape"
   ]
  },
  {
   "cell_type": "markdown",
   "id": "660e8cb0",
   "metadata": {},
   "source": [
    "#### Dropping columns with missing values >= 25%:"
   ]
  },
  {
   "cell_type": "code",
   "execution_count": 272,
   "id": "3d5fcac7",
   "metadata": {},
   "outputs": [
    {
     "data": {
      "text/plain": [
       "(1143, 50)"
      ]
     },
     "execution_count": 272,
     "metadata": {},
     "output_type": "execute_result"
    }
   ],
   "source": [
    "df.drop(columns=df.columns[(df.isnull().sum()/1143)>=0.25], inplace = True)\n",
    "df.shape"
   ]
  },
  {
   "cell_type": "markdown",
   "id": "6c4d8389",
   "metadata": {},
   "source": [
    "#### Drop any rows with missing values >= 2%"
   ]
  },
  {
   "cell_type": "code",
   "execution_count": 273,
   "id": "4ef6f05a",
   "metadata": {},
   "outputs": [
    {
     "name": "stdout",
     "output_type": "stream",
     "text": [
      "(1094, 50)\n"
     ]
    }
   ],
   "source": [
    "df.drop(df[df.isnull().sum(axis=1)/50>=0.02].index, inplace=True) \n",
    "print(df.shape)"
   ]
  },
  {
   "cell_type": "code",
   "execution_count": 274,
   "id": "a0363124",
   "metadata": {},
   "outputs": [
    {
     "data": {
      "text/plain": [
       "Series([], dtype: int64)"
      ]
     },
     "execution_count": 274,
     "metadata": {},
     "output_type": "execute_result"
    }
   ],
   "source": [
    "missing_values=df.isna().sum()\n",
    "missing_values[missing_values>0]"
   ]
  },
  {
   "cell_type": "markdown",
   "id": "ab14219a",
   "metadata": {},
   "source": [
    "### 3.2. Normalization - Using Robust Scaler"
   ]
  },
  {
   "cell_type": "code",
   "execution_count": 275,
   "id": "dc35c7b4",
   "metadata": {},
   "outputs": [],
   "source": [
    "pd.reset_option('display.max_rows')\n",
    "pd.set_option('display.max_columns', None)"
   ]
  },
  {
   "cell_type": "code",
   "execution_count": 277,
   "id": "597fbdda",
   "metadata": {},
   "outputs": [
    {
     "data": {
      "text/html": [
       "<div>\n",
       "<style scoped>\n",
       "    .dataframe tbody tr th:only-of-type {\n",
       "        vertical-align: middle;\n",
       "    }\n",
       "\n",
       "    .dataframe tbody tr th {\n",
       "        vertical-align: top;\n",
       "    }\n",
       "\n",
       "    .dataframe thead th {\n",
       "        text-align: right;\n",
       "    }\n",
       "</style>\n",
       "<table border=\"1\" class=\"dataframe\">\n",
       "  <thead>\n",
       "    <tr style=\"text-align: right;\">\n",
       "      <th></th>\n",
       "      <th>femaleres</th>\n",
       "      <th>married</th>\n",
       "      <th>children</th>\n",
       "      <th>hh_children</th>\n",
       "      <th>asset_niceroof</th>\n",
       "      <th>ent_wagelabor</th>\n",
       "      <th>ent_ownfarm</th>\n",
       "      <th>ent_business</th>\n",
       "      <th>ent_nonagbusiness</th>\n",
       "      <th>ent_employees</th>\n",
       "      <th>med_vacc_newborns</th>\n",
       "      <th>med_child_check</th>\n",
       "      <th>labor_primary</th>\n",
       "      <th>given_mpesa</th>\n",
       "      <th>received_mpesa</th>\n",
       "      <th>saved_mpesa</th>\n",
       "      <th>early_survey</th>\n",
       "      <th>depressed</th>\n",
       "    </tr>\n",
       "  </thead>\n",
       "  <tbody>\n",
       "    <tr>\n",
       "      <th>0</th>\n",
       "      <td>1</td>\n",
       "      <td>1</td>\n",
       "      <td>4</td>\n",
       "      <td>0</td>\n",
       "      <td>0</td>\n",
       "      <td>0</td>\n",
       "      <td>0</td>\n",
       "      <td>0</td>\n",
       "      <td>0</td>\n",
       "      <td>0</td>\n",
       "      <td>1</td>\n",
       "      <td>1</td>\n",
       "      <td>0</td>\n",
       "      <td>0</td>\n",
       "      <td>0</td>\n",
       "      <td>1</td>\n",
       "      <td>0</td>\n",
       "      <td>0</td>\n",
       "    </tr>\n",
       "    <tr>\n",
       "      <th>1</th>\n",
       "      <td>1</td>\n",
       "      <td>1</td>\n",
       "      <td>3</td>\n",
       "      <td>0</td>\n",
       "      <td>0</td>\n",
       "      <td>0</td>\n",
       "      <td>0</td>\n",
       "      <td>0</td>\n",
       "      <td>0</td>\n",
       "      <td>0</td>\n",
       "      <td>1</td>\n",
       "      <td>1</td>\n",
       "      <td>0</td>\n",
       "      <td>0</td>\n",
       "      <td>1</td>\n",
       "      <td>0</td>\n",
       "      <td>0</td>\n",
       "      <td>1</td>\n",
       "    </tr>\n",
       "    <tr>\n",
       "      <th>2</th>\n",
       "      <td>1</td>\n",
       "      <td>1</td>\n",
       "      <td>3</td>\n",
       "      <td>0</td>\n",
       "      <td>0</td>\n",
       "      <td>0</td>\n",
       "      <td>0</td>\n",
       "      <td>0</td>\n",
       "      <td>0</td>\n",
       "      <td>0</td>\n",
       "      <td>1</td>\n",
       "      <td>1</td>\n",
       "      <td>0</td>\n",
       "      <td>0</td>\n",
       "      <td>0</td>\n",
       "      <td>1</td>\n",
       "      <td>0</td>\n",
       "      <td>0</td>\n",
       "    </tr>\n",
       "    <tr>\n",
       "      <th>3</th>\n",
       "      <td>1</td>\n",
       "      <td>1</td>\n",
       "      <td>2</td>\n",
       "      <td>2</td>\n",
       "      <td>0</td>\n",
       "      <td>0</td>\n",
       "      <td>1</td>\n",
       "      <td>0</td>\n",
       "      <td>1</td>\n",
       "      <td>0</td>\n",
       "      <td>1</td>\n",
       "      <td>1</td>\n",
       "      <td>0</td>\n",
       "      <td>0</td>\n",
       "      <td>0</td>\n",
       "      <td>1</td>\n",
       "      <td>0</td>\n",
       "      <td>0</td>\n",
       "    </tr>\n",
       "    <tr>\n",
       "      <th>4</th>\n",
       "      <td>0</td>\n",
       "      <td>0</td>\n",
       "      <td>4</td>\n",
       "      <td>4</td>\n",
       "      <td>0</td>\n",
       "      <td>1</td>\n",
       "      <td>0</td>\n",
       "      <td>0</td>\n",
       "      <td>0</td>\n",
       "      <td>0</td>\n",
       "      <td>1</td>\n",
       "      <td>1</td>\n",
       "      <td>1</td>\n",
       "      <td>0</td>\n",
       "      <td>0</td>\n",
       "      <td>0</td>\n",
       "      <td>0</td>\n",
       "      <td>0</td>\n",
       "    </tr>\n",
       "    <tr>\n",
       "      <th>...</th>\n",
       "      <td>...</td>\n",
       "      <td>...</td>\n",
       "      <td>...</td>\n",
       "      <td>...</td>\n",
       "      <td>...</td>\n",
       "      <td>...</td>\n",
       "      <td>...</td>\n",
       "      <td>...</td>\n",
       "      <td>...</td>\n",
       "      <td>...</td>\n",
       "      <td>...</td>\n",
       "      <td>...</td>\n",
       "      <td>...</td>\n",
       "      <td>...</td>\n",
       "      <td>...</td>\n",
       "      <td>...</td>\n",
       "      <td>...</td>\n",
       "      <td>...</td>\n",
       "    </tr>\n",
       "    <tr>\n",
       "      <th>1138</th>\n",
       "      <td>1</td>\n",
       "      <td>0</td>\n",
       "      <td>4</td>\n",
       "      <td>0</td>\n",
       "      <td>0</td>\n",
       "      <td>0</td>\n",
       "      <td>0</td>\n",
       "      <td>0</td>\n",
       "      <td>0</td>\n",
       "      <td>0</td>\n",
       "      <td>1</td>\n",
       "      <td>1</td>\n",
       "      <td>0</td>\n",
       "      <td>0</td>\n",
       "      <td>0</td>\n",
       "      <td>0</td>\n",
       "      <td>0</td>\n",
       "      <td>1</td>\n",
       "    </tr>\n",
       "    <tr>\n",
       "      <th>1139</th>\n",
       "      <td>1</td>\n",
       "      <td>1</td>\n",
       "      <td>0</td>\n",
       "      <td>0</td>\n",
       "      <td>0</td>\n",
       "      <td>0</td>\n",
       "      <td>1</td>\n",
       "      <td>0</td>\n",
       "      <td>0</td>\n",
       "      <td>0</td>\n",
       "      <td>1</td>\n",
       "      <td>1</td>\n",
       "      <td>0</td>\n",
       "      <td>0</td>\n",
       "      <td>0</td>\n",
       "      <td>1</td>\n",
       "      <td>0</td>\n",
       "      <td>0</td>\n",
       "    </tr>\n",
       "    <tr>\n",
       "      <th>1140</th>\n",
       "      <td>1</td>\n",
       "      <td>1</td>\n",
       "      <td>5</td>\n",
       "      <td>5</td>\n",
       "      <td>0</td>\n",
       "      <td>0</td>\n",
       "      <td>1</td>\n",
       "      <td>0</td>\n",
       "      <td>1</td>\n",
       "      <td>0</td>\n",
       "      <td>1</td>\n",
       "      <td>1</td>\n",
       "      <td>0</td>\n",
       "      <td>0</td>\n",
       "      <td>0</td>\n",
       "      <td>0</td>\n",
       "      <td>0</td>\n",
       "      <td>0</td>\n",
       "    </tr>\n",
       "    <tr>\n",
       "      <th>1141</th>\n",
       "      <td>1</td>\n",
       "      <td>0</td>\n",
       "      <td>4</td>\n",
       "      <td>0</td>\n",
       "      <td>0</td>\n",
       "      <td>0</td>\n",
       "      <td>0</td>\n",
       "      <td>0</td>\n",
       "      <td>0</td>\n",
       "      <td>0</td>\n",
       "      <td>1</td>\n",
       "      <td>1</td>\n",
       "      <td>0</td>\n",
       "      <td>0</td>\n",
       "      <td>0</td>\n",
       "      <td>0</td>\n",
       "      <td>0</td>\n",
       "      <td>0</td>\n",
       "    </tr>\n",
       "    <tr>\n",
       "      <th>1142</th>\n",
       "      <td>1</td>\n",
       "      <td>1</td>\n",
       "      <td>0</td>\n",
       "      <td>0</td>\n",
       "      <td>0</td>\n",
       "      <td>0</td>\n",
       "      <td>1</td>\n",
       "      <td>0</td>\n",
       "      <td>1</td>\n",
       "      <td>0</td>\n",
       "      <td>1</td>\n",
       "      <td>1</td>\n",
       "      <td>0</td>\n",
       "      <td>0</td>\n",
       "      <td>0</td>\n",
       "      <td>0</td>\n",
       "      <td>0</td>\n",
       "      <td>1</td>\n",
       "    </tr>\n",
       "  </tbody>\n",
       "</table>\n",
       "<p>1094 rows × 18 columns</p>\n",
       "</div>"
      ],
      "text/plain": [
       "      femaleres  married  children  hh_children  asset_niceroof  \\\n",
       "0             1        1         4            0               0   \n",
       "1             1        1         3            0               0   \n",
       "2             1        1         3            0               0   \n",
       "3             1        1         2            2               0   \n",
       "4             0        0         4            4               0   \n",
       "...         ...      ...       ...          ...             ...   \n",
       "1138          1        0         4            0               0   \n",
       "1139          1        1         0            0               0   \n",
       "1140          1        1         5            5               0   \n",
       "1141          1        0         4            0               0   \n",
       "1142          1        1         0            0               0   \n",
       "\n",
       "      ent_wagelabor  ent_ownfarm  ent_business  ent_nonagbusiness  \\\n",
       "0                 0            0             0                  0   \n",
       "1                 0            0             0                  0   \n",
       "2                 0            0             0                  0   \n",
       "3                 0            1             0                  1   \n",
       "4                 1            0             0                  0   \n",
       "...             ...          ...           ...                ...   \n",
       "1138              0            0             0                  0   \n",
       "1139              0            1             0                  0   \n",
       "1140              0            1             0                  1   \n",
       "1141              0            0             0                  0   \n",
       "1142              0            1             0                  1   \n",
       "\n",
       "      ent_employees  med_vacc_newborns  med_child_check  labor_primary  \\\n",
       "0                 0                  1                1              0   \n",
       "1                 0                  1                1              0   \n",
       "2                 0                  1                1              0   \n",
       "3                 0                  1                1              0   \n",
       "4                 0                  1                1              1   \n",
       "...             ...                ...              ...            ...   \n",
       "1138              0                  1                1              0   \n",
       "1139              0                  1                1              0   \n",
       "1140              0                  1                1              0   \n",
       "1141              0                  1                1              0   \n",
       "1142              0                  1                1              0   \n",
       "\n",
       "      given_mpesa  received_mpesa  saved_mpesa  early_survey  depressed  \n",
       "0               0               0            1             0          0  \n",
       "1               0               1            0             0          1  \n",
       "2               0               0            1             0          0  \n",
       "3               0               0            1             0          0  \n",
       "4               0               0            0             0          0  \n",
       "...           ...             ...          ...           ...        ...  \n",
       "1138            0               0            0             0          1  \n",
       "1139            0               0            1             0          0  \n",
       "1140            0               0            0             0          0  \n",
       "1141            0               0            0             0          0  \n",
       "1142            0               0            0             0          1  \n",
       "\n",
       "[1094 rows x 18 columns]"
      ]
     },
     "execution_count": 277,
     "metadata": {},
     "output_type": "execute_result"
    }
   ],
   "source": [
    "df_other"
   ]
  },
  {
   "cell_type": "code",
   "execution_count": 276,
   "id": "922b4dcc",
   "metadata": {},
   "outputs": [
    {
     "name": "stdout",
     "output_type": "stream",
     "text": [
      "(1094, 18)\n"
     ]
    }
   ],
   "source": [
    "df_other=df.copy()\n",
    "df_other=df[['femaleres', 'married', 'children', \n",
    "             'hh_children', 'asset_niceroof', 'ent_wagelabor', \n",
    "             'ent_ownfarm', 'ent_business', 'ent_nonagbusiness',\n",
    "            'ent_employees', 'med_vacc_newborns', 'med_child_check',\n",
    "            'labor_primary', 'given_mpesa', 'received_mpesa', \n",
    "            'saved_mpesa', 'early_survey', 'depressed']]\n",
    "\n",
    "print(df_other.shape)"
   ]
  },
  {
   "cell_type": "code",
   "execution_count": 42,
   "id": "87b2c019",
   "metadata": {},
   "outputs": [
    {
     "name": "stdout",
     "output_type": "stream",
     "text": [
      "(1094, 32)\n"
     ]
    }
   ],
   "source": [
    "df_norm=df.copy()\n",
    "df_norm.drop(['femaleres', 'married', 'children', \n",
    "             'hh_children', 'asset_niceroof', 'ent_wagelabor', \n",
    "             'ent_ownfarm', 'ent_business', 'ent_nonagbusiness',\n",
    "            'ent_employees', 'med_vacc_newborns', 'med_child_check',\n",
    "            'labor_primary', 'given_mpesa', 'received_mpesa', \n",
    "            'saved_mpesa', 'early_survey', 'depressed'], axis=1, inplace = True)\n",
    "\n",
    "print(df_norm.shape)"
   ]
  },
  {
   "cell_type": "code",
   "execution_count": 45,
   "id": "f283d482",
   "metadata": {
    "scrolled": false
   },
   "outputs": [
    {
     "data": {
      "text/html": [
       "<div>\n",
       "<style scoped>\n",
       "    .dataframe tbody tr th:only-of-type {\n",
       "        vertical-align: middle;\n",
       "    }\n",
       "\n",
       "    .dataframe tbody tr th {\n",
       "        vertical-align: top;\n",
       "    }\n",
       "\n",
       "    .dataframe thead th {\n",
       "        text-align: right;\n",
       "    }\n",
       "</style>\n",
       "<table border=\"1\" class=\"dataframe\">\n",
       "  <thead>\n",
       "    <tr style=\"text-align: right;\">\n",
       "      <th></th>\n",
       "      <th>age</th>\n",
       "      <th>hhsize</th>\n",
       "      <th>edu</th>\n",
       "      <th>cons_nondurable</th>\n",
       "      <th>asset_livestock</th>\n",
       "      <th>asset_durable</th>\n",
       "      <th>asset_phone</th>\n",
       "      <th>asset_savings</th>\n",
       "      <th>asset_land_owned_total</th>\n",
       "      <th>cons_allfood</th>\n",
       "      <th>cons_ownfood</th>\n",
       "      <th>cons_alcohol</th>\n",
       "      <th>cons_tobacco</th>\n",
       "      <th>cons_med_total</th>\n",
       "      <th>cons_ed</th>\n",
       "      <th>cons_social</th>\n",
       "      <th>cons_other</th>\n",
       "      <th>ent_nonag_revenue</th>\n",
       "      <th>ent_nonag_flowcost</th>\n",
       "      <th>ent_farmrevenue</th>\n",
       "      <th>ent_farmexpenses</th>\n",
       "      <th>ent_animalstockrev</th>\n",
       "      <th>ent_total_cost</th>\n",
       "      <th>fs_adskipm_often</th>\n",
       "      <th>fs_adwholed_often</th>\n",
       "      <th>wage_expenditures</th>\n",
       "      <th>durable_investment</th>\n",
       "      <th>nondurable_investment</th>\n",
       "      <th>amount_given_mpesa</th>\n",
       "      <th>amount_received_mpesa</th>\n",
       "      <th>net_mpesa</th>\n",
       "      <th>amount_saved_mpesa</th>\n",
       "    </tr>\n",
       "  </thead>\n",
       "  <tbody>\n",
       "    <tr>\n",
       "      <th>0</th>\n",
       "      <td>-0.159375</td>\n",
       "      <td>0.333333</td>\n",
       "      <td>0.5</td>\n",
       "      <td>-0.558444</td>\n",
       "      <td>-0.165365</td>\n",
       "      <td>-0.549204</td>\n",
       "      <td>0.00</td>\n",
       "      <td>0.000000</td>\n",
       "      <td>0.000000</td>\n",
       "      <td>-0.549663</td>\n",
       "      <td>-0.327143</td>\n",
       "      <td>0.0</td>\n",
       "      <td>0.0</td>\n",
       "      <td>0.000000</td>\n",
       "      <td>-0.170940</td>\n",
       "      <td>-0.326981</td>\n",
       "      <td>-0.440219</td>\n",
       "      <td>0.000000</td>\n",
       "      <td>0.0</td>\n",
       "      <td>-0.333333</td>\n",
       "      <td>-0.215509</td>\n",
       "      <td>0.000000</td>\n",
       "      <td>-0.114254</td>\n",
       "      <td>-0.333333</td>\n",
       "      <td>0.0</td>\n",
       "      <td>0.0</td>\n",
       "      <td>-0.462567</td>\n",
       "      <td>-0.200129</td>\n",
       "      <td>0.0</td>\n",
       "      <td>0.000000</td>\n",
       "      <td>0.000000</td>\n",
       "      <td>0.000000</td>\n",
       "    </tr>\n",
       "    <tr>\n",
       "      <th>1</th>\n",
       "      <td>-0.471875</td>\n",
       "      <td>0.000000</td>\n",
       "      <td>-0.5</td>\n",
       "      <td>-0.558444</td>\n",
       "      <td>-0.165365</td>\n",
       "      <td>-0.549204</td>\n",
       "      <td>0.00</td>\n",
       "      <td>0.000000</td>\n",
       "      <td>0.000000</td>\n",
       "      <td>-0.549663</td>\n",
       "      <td>-0.327143</td>\n",
       "      <td>0.0</td>\n",
       "      <td>0.0</td>\n",
       "      <td>0.000000</td>\n",
       "      <td>-0.170940</td>\n",
       "      <td>-0.326981</td>\n",
       "      <td>-0.440219</td>\n",
       "      <td>0.000000</td>\n",
       "      <td>0.0</td>\n",
       "      <td>-0.333333</td>\n",
       "      <td>-0.215509</td>\n",
       "      <td>0.000000</td>\n",
       "      <td>-0.114254</td>\n",
       "      <td>-0.333333</td>\n",
       "      <td>0.0</td>\n",
       "      <td>0.0</td>\n",
       "      <td>-0.462567</td>\n",
       "      <td>-0.200129</td>\n",
       "      <td>0.0</td>\n",
       "      <td>4.804611</td>\n",
       "      <td>4.804611</td>\n",
       "      <td>0.000000</td>\n",
       "    </tr>\n",
       "    <tr>\n",
       "      <th>2</th>\n",
       "      <td>-0.534375</td>\n",
       "      <td>0.000000</td>\n",
       "      <td>0.0</td>\n",
       "      <td>-0.558444</td>\n",
       "      <td>-0.165365</td>\n",
       "      <td>-0.549204</td>\n",
       "      <td>0.00</td>\n",
       "      <td>0.000000</td>\n",
       "      <td>0.000000</td>\n",
       "      <td>-0.549663</td>\n",
       "      <td>-0.327143</td>\n",
       "      <td>0.0</td>\n",
       "      <td>0.0</td>\n",
       "      <td>0.000000</td>\n",
       "      <td>-0.170940</td>\n",
       "      <td>-0.326981</td>\n",
       "      <td>-0.440219</td>\n",
       "      <td>0.000000</td>\n",
       "      <td>0.0</td>\n",
       "      <td>-0.333333</td>\n",
       "      <td>-0.215509</td>\n",
       "      <td>0.000000</td>\n",
       "      <td>-0.114254</td>\n",
       "      <td>-0.333333</td>\n",
       "      <td>0.0</td>\n",
       "      <td>0.0</td>\n",
       "      <td>-0.462567</td>\n",
       "      <td>-0.200129</td>\n",
       "      <td>0.0</td>\n",
       "      <td>8.007685</td>\n",
       "      <td>8.007685</td>\n",
       "      <td>0.000000</td>\n",
       "    </tr>\n",
       "    <tr>\n",
       "      <th>3</th>\n",
       "      <td>-0.221875</td>\n",
       "      <td>-0.333333</td>\n",
       "      <td>0.5</td>\n",
       "      <td>1.459448</td>\n",
       "      <td>5.106204</td>\n",
       "      <td>0.340810</td>\n",
       "      <td>0.75</td>\n",
       "      <td>49.647648</td>\n",
       "      <td>0.000000</td>\n",
       "      <td>1.576146</td>\n",
       "      <td>3.572857</td>\n",
       "      <td>0.0</td>\n",
       "      <td>0.0</td>\n",
       "      <td>4.163996</td>\n",
       "      <td>0.547008</td>\n",
       "      <td>10.287444</td>\n",
       "      <td>0.992446</td>\n",
       "      <td>32.030739</td>\n",
       "      <td>0.0</td>\n",
       "      <td>3.642857</td>\n",
       "      <td>0.649606</td>\n",
       "      <td>6.621438</td>\n",
       "      <td>1.673576</td>\n",
       "      <td>-0.333333</td>\n",
       "      <td>0.0</td>\n",
       "      <td>0.0</td>\n",
       "      <td>1.491691</td>\n",
       "      <td>3.003474</td>\n",
       "      <td>0.0</td>\n",
       "      <td>0.000000</td>\n",
       "      <td>0.000000</td>\n",
       "      <td>1.249199</td>\n",
       "    </tr>\n",
       "    <tr>\n",
       "      <th>4</th>\n",
       "      <td>1.778125</td>\n",
       "      <td>0.333333</td>\n",
       "      <td>0.5</td>\n",
       "      <td>0.819398</td>\n",
       "      <td>-0.082682</td>\n",
       "      <td>0.234805</td>\n",
       "      <td>0.60</td>\n",
       "      <td>0.000000</td>\n",
       "      <td>0.338983</td>\n",
       "      <td>0.722197</td>\n",
       "      <td>-0.234000</td>\n",
       "      <td>0.0</td>\n",
       "      <td>0.0</td>\n",
       "      <td>0.800768</td>\n",
       "      <td>0.797721</td>\n",
       "      <td>1.831523</td>\n",
       "      <td>1.983329</td>\n",
       "      <td>0.000000</td>\n",
       "      <td>0.0</td>\n",
       "      <td>-0.238095</td>\n",
       "      <td>0.740940</td>\n",
       "      <td>0.000000</td>\n",
       "      <td>0.092915</td>\n",
       "      <td>-0.333333</td>\n",
       "      <td>0.0</td>\n",
       "      <td>0.0</td>\n",
       "      <td>0.042266</td>\n",
       "      <td>0.000824</td>\n",
       "      <td>0.0</td>\n",
       "      <td>0.000000</td>\n",
       "      <td>0.000000</td>\n",
       "      <td>0.000000</td>\n",
       "    </tr>\n",
       "  </tbody>\n",
       "</table>\n",
       "</div>"
      ],
      "text/plain": [
       "        age    hhsize  edu  cons_nondurable  asset_livestock  asset_durable  \\\n",
       "0 -0.159375  0.333333  0.5        -0.558444        -0.165365      -0.549204   \n",
       "1 -0.471875  0.000000 -0.5        -0.558444        -0.165365      -0.549204   \n",
       "2 -0.534375  0.000000  0.0        -0.558444        -0.165365      -0.549204   \n",
       "3 -0.221875 -0.333333  0.5         1.459448         5.106204       0.340810   \n",
       "4  1.778125  0.333333  0.5         0.819398        -0.082682       0.234805   \n",
       "\n",
       "   asset_phone  asset_savings  asset_land_owned_total  cons_allfood  \\\n",
       "0         0.00       0.000000                0.000000     -0.549663   \n",
       "1         0.00       0.000000                0.000000     -0.549663   \n",
       "2         0.00       0.000000                0.000000     -0.549663   \n",
       "3         0.75      49.647648                0.000000      1.576146   \n",
       "4         0.60       0.000000                0.338983      0.722197   \n",
       "\n",
       "   cons_ownfood  cons_alcohol  cons_tobacco  cons_med_total   cons_ed  \\\n",
       "0     -0.327143           0.0           0.0        0.000000 -0.170940   \n",
       "1     -0.327143           0.0           0.0        0.000000 -0.170940   \n",
       "2     -0.327143           0.0           0.0        0.000000 -0.170940   \n",
       "3      3.572857           0.0           0.0        4.163996  0.547008   \n",
       "4     -0.234000           0.0           0.0        0.800768  0.797721   \n",
       "\n",
       "   cons_social  cons_other  ent_nonag_revenue  ent_nonag_flowcost  \\\n",
       "0    -0.326981   -0.440219           0.000000                 0.0   \n",
       "1    -0.326981   -0.440219           0.000000                 0.0   \n",
       "2    -0.326981   -0.440219           0.000000                 0.0   \n",
       "3    10.287444    0.992446          32.030739                 0.0   \n",
       "4     1.831523    1.983329           0.000000                 0.0   \n",
       "\n",
       "   ent_farmrevenue  ent_farmexpenses  ent_animalstockrev  ent_total_cost  \\\n",
       "0        -0.333333         -0.215509            0.000000       -0.114254   \n",
       "1        -0.333333         -0.215509            0.000000       -0.114254   \n",
       "2        -0.333333         -0.215509            0.000000       -0.114254   \n",
       "3         3.642857          0.649606            6.621438        1.673576   \n",
       "4        -0.238095          0.740940            0.000000        0.092915   \n",
       "\n",
       "   fs_adskipm_often  fs_adwholed_often  wage_expenditures  durable_investment  \\\n",
       "0         -0.333333                0.0                0.0           -0.462567   \n",
       "1         -0.333333                0.0                0.0           -0.462567   \n",
       "2         -0.333333                0.0                0.0           -0.462567   \n",
       "3         -0.333333                0.0                0.0            1.491691   \n",
       "4         -0.333333                0.0                0.0            0.042266   \n",
       "\n",
       "   nondurable_investment  amount_given_mpesa  amount_received_mpesa  \\\n",
       "0              -0.200129                 0.0               0.000000   \n",
       "1              -0.200129                 0.0               4.804611   \n",
       "2              -0.200129                 0.0               8.007685   \n",
       "3               3.003474                 0.0               0.000000   \n",
       "4               0.000824                 0.0               0.000000   \n",
       "\n",
       "   net_mpesa  amount_saved_mpesa  \n",
       "0   0.000000            0.000000  \n",
       "1   4.804611            0.000000  \n",
       "2   8.007685            0.000000  \n",
       "3   0.000000            1.249199  \n",
       "4   0.000000            0.000000  "
      ]
     },
     "execution_count": 45,
     "metadata": {},
     "output_type": "execute_result"
    }
   ],
   "source": [
    "scaler = preprocessing.RobustScaler()\n",
    "names = df_norm.columns\n",
    "d = scaler.fit_transform(df_norm)\n",
    "df_norm = pd.DataFrame(d, columns=names)\n",
    "df_norm.head()"
   ]
  },
  {
   "cell_type": "code",
   "execution_count": 46,
   "id": "5123a0a8",
   "metadata": {},
   "outputs": [
    {
     "data": {
      "text/plain": [
       "(1094, 32)"
      ]
     },
     "execution_count": 46,
     "metadata": {},
     "output_type": "execute_result"
    }
   ],
   "source": [
    "df_norm.shape"
   ]
  },
  {
   "cell_type": "code",
   "execution_count": 47,
   "id": "6417a03e",
   "metadata": {},
   "outputs": [],
   "source": [
    "df=pd.concat([df_norm.reset_index(drop=True), df_other.reset_index(drop=True)], axis=1)"
   ]
  },
  {
   "cell_type": "code",
   "execution_count": 48,
   "id": "63cbe27d",
   "metadata": {},
   "outputs": [
    {
     "data": {
      "text/plain": [
       "(1094, 50)"
      ]
     },
     "execution_count": 48,
     "metadata": {},
     "output_type": "execute_result"
    }
   ],
   "source": [
    "df.shape"
   ]
  },
  {
   "cell_type": "markdown",
   "id": "70defc53",
   "metadata": {},
   "source": [
    "## Save the first preprocessed data:"
   ]
  },
  {
   "cell_type": "code",
   "execution_count": 50,
   "id": "c186f3b8",
   "metadata": {},
   "outputs": [],
   "source": [
    "df.to_csv(\"Preprocessed_Depression_Dataset_25%cols_2%rows_50Features.csv\", index=False)"
   ]
  },
  {
   "cell_type": "markdown",
   "id": "67d231cb",
   "metadata": {},
   "source": [
    "### 3.3. SelectKBest Features\n",
    "For selecting the most important features, we will use the wrapping technique during the preprocessing phase."
   ]
  },
  {
   "cell_type": "code",
   "execution_count": 146,
   "id": "c093cd86",
   "metadata": {},
   "outputs": [],
   "source": [
    "from collections import Counter\n",
    "from sklearn.datasets import make_classification\n",
    "from imblearn.over_sampling import SMOTE\n",
    "from imblearn.under_sampling import RandomUnderSampler\n",
    "from imblearn.pipeline import Pipeline\n",
    "from imblearn.combine import SMOTEENN\n",
    "from imblearn.combine import SMOTETomek\n",
    "from imblearn.under_sampling import *\n",
    "\n",
    "import numpy as np\n",
    "import pandas as pd\n",
    "from sklearn.ensemble import AdaBoostClassifier, ExtraTreesClassifier, RandomForestClassifier\n",
    "import matplotlib.pyplot as plt\n",
    "from sklearn.model_selection import train_test_split, StratifiedKFold, GridSearchCV\n",
    "from sklearn.feature_selection import chi2, SelectKBest, f_classif\n",
    "from sklearn.metrics import *\n",
    "import random\n",
    "from random import randint\n",
    "import warnings\n",
    "from mlxtend.feature_selection import SequentialFeatureSelector as SFS \n",
    "warnings.filterwarnings('ignore')\n",
    "kf = StratifiedKFold(n_splits=10)\n",
    "from imblearn.under_sampling import NearMiss\n",
    "\n",
    "#You have to define it here only\n",
    "rs=123\n",
    "%matplotlib inline"
   ]
  },
  {
   "cell_type": "code",
   "execution_count": 241,
   "id": "9ccb8d80",
   "metadata": {},
   "outputs": [],
   "source": [
    "df=pd.read_csv('Preprocessed_Depression_Dataset_25%cols_2%rows_50Features.csv')"
   ]
  },
  {
   "cell_type": "code",
   "execution_count": 242,
   "id": "92829f3a",
   "metadata": {},
   "outputs": [
    {
     "data": {
      "text/plain": [
       "(1094, 50)"
      ]
     },
     "execution_count": 242,
     "metadata": {},
     "output_type": "execute_result"
    }
   ],
   "source": [
    "df.shape"
   ]
  },
  {
   "cell_type": "code",
   "execution_count": 243,
   "id": "72c421e4",
   "metadata": {},
   "outputs": [
    {
     "name": "stdout",
     "output_type": "stream",
     "text": [
      "X: (1094, 49)\n",
      "Y: (1094,)\n",
      "Value counts of classes:\n",
      " 0    911\n",
      "1    183\n",
      "Name: depressed, dtype: int64\n"
     ]
    }
   ],
   "source": [
    "X=df.drop('depressed', axis=1)\n",
    "Y=df['depressed']\n",
    "\n",
    "print('X:',X.shape)\n",
    "print('Y:',Y.shape)\n",
    "\n",
    "print('Value counts of classes:\\n', Y.value_counts())"
   ]
  },
  {
   "cell_type": "code",
   "execution_count": 244,
   "id": "7ac13960",
   "metadata": {},
   "outputs": [],
   "source": [
    "def model_evaluation(model, Y_predicted, X_train, Y_train, Y_test):\n",
    "    \"\"\"\n",
    "    Evaluates the performance of a machine learning model using various metrics.\n",
    "\n",
    "    Parameters:\n",
    "    model (object): The trained machine learning model.\n",
    "    Y_predicted (array-like): The predicted labels for the test set.\n",
    "    X_train (array-like): The training set features.\n",
    "    Y_train (array-like): The training set labels.\n",
    "    Y_test (array-like): The true labels for the test set.\n",
    "\n",
    "    Prints:\n",
    "    * Train score: The accuracy of the model on the training set.\n",
    "    * Confusion matrix: The confusion matrix for the test set predictions.\n",
    "    * Accuracy: The accuracy of the model on the test set.\n",
    "    * F1: The F1 score of the model on the test set.\n",
    "    * Precision: The precision of the model on the test set.\n",
    "    * Recall: The recall of the model on the test set.\n",
    "    * ROC_AUC: The ROC AUC score of the model on the test set.\n",
    "    \"\"\"\n",
    "    # Print the training score of the model\n",
    "    print('* Train score: %0.2f' % (model.score(X_train, Y_train) * 100))\n",
    "    \n",
    "    # Print the confusion matrix for the test set predictions\n",
    "    print('* Confusion matrix: \\n', confusion_matrix(Y_test, Y_predicted))\n",
    "    \n",
    "    # Print the accuracy of the model\n",
    "    print('* Accuracy: %0.2f' % (accuracy_score(Y_test, Y_predicted) * 100))\n",
    "    \n",
    "    # Print the ROC AUC score of the model\n",
    "    print('* ROC_AUC: %0.2f' % (roc_auc_score(Y_test, Y_predicted) * 100))"
   ]
  },
  {
   "cell_type": "code",
   "execution_count": 252,
   "id": "ca917c91",
   "metadata": {},
   "outputs": [],
   "source": [
    "X_train,X_test,Y_train,Y_test = train_test_split(X,Y, test_size=0.2,random_state=rs)"
   ]
  },
  {
   "cell_type": "code",
   "execution_count": 253,
   "id": "39189ef3",
   "metadata": {
    "scrolled": true
   },
   "outputs": [
    {
     "data": {
      "text/plain": [
       "0    678\n",
       "1    142\n",
       "Name: depressed, dtype: int64"
      ]
     },
     "execution_count": 253,
     "metadata": {},
     "output_type": "execute_result"
    }
   ],
   "source": [
    "Y_train.value_counts()"
   ]
  },
  {
   "cell_type": "code",
   "execution_count": 254,
   "id": "992db4cb",
   "metadata": {},
   "outputs": [
    {
     "data": {
      "text/plain": [
       "0    233\n",
       "1     41\n",
       "Name: depressed, dtype: int64"
      ]
     },
     "execution_count": 254,
     "metadata": {},
     "output_type": "execute_result"
    }
   ],
   "source": [
    "Y_test.value_counts()"
   ]
  },
  {
   "cell_type": "code",
   "execution_count": 255,
   "id": "2ab5ba8f",
   "metadata": {
    "scrolled": true
   },
   "outputs": [
    {
     "name": "stdout",
     "output_type": "stream",
     "text": [
      "***** 1 ******\n",
      "* Train score: 83.05\n",
      "* Confusion matrix: \n",
      " [[229   4]\n",
      " [ 40   1]]\n",
      "* Accuracy: 83.94\n",
      "* ROC_AUC: 50.36\n",
      "-----------------------------------------------------------------\n",
      "***** 2 ******\n",
      "* Train score: 83.54\n",
      "* Confusion matrix: \n",
      " [[227   6]\n",
      " [ 38   3]]\n",
      "* Accuracy: 83.94\n",
      "* ROC_AUC: 52.37\n",
      "-----------------------------------------------------------------\n",
      "***** 3 ******\n",
      "* Train score: 89.88\n",
      "* Confusion matrix: \n",
      " [[223  10]\n",
      " [ 35   6]]\n",
      "* Accuracy: 83.58\n",
      "* ROC_AUC: 55.17\n",
      "-----------------------------------------------------------------\n",
      "***** 4 ******\n",
      "* Train score: 91.10\n",
      "* Confusion matrix: \n",
      " [[218  15]\n",
      " [ 37   4]]\n",
      "* Accuracy: 81.02\n",
      "* ROC_AUC: 51.66\n",
      "-----------------------------------------------------------------\n",
      "***** 5 ******\n",
      "* Train score: 90.85\n",
      "* Confusion matrix: \n",
      " [[218  15]\n",
      " [ 37   4]]\n",
      "* Accuracy: 81.02\n",
      "* ROC_AUC: 51.66\n",
      "-----------------------------------------------------------------\n",
      "***** 6 ******\n",
      "* Train score: 95.61\n",
      "* Confusion matrix: \n",
      " [[214  19]\n",
      " [ 35   6]]\n",
      "* Accuracy: 80.29\n",
      "* ROC_AUC: 53.24\n",
      "-----------------------------------------------------------------\n",
      "***** 7 ******\n",
      "* Train score: 95.61\n",
      "* Confusion matrix: \n",
      " [[213  20]\n",
      " [ 38   3]]\n",
      "* Accuracy: 78.83\n",
      "* ROC_AUC: 49.37\n",
      "-----------------------------------------------------------------\n",
      "***** 8 ******\n",
      "* Train score: 95.61\n",
      "* Confusion matrix: \n",
      " [[212  21]\n",
      " [ 37   4]]\n",
      "* Accuracy: 78.83\n",
      "* ROC_AUC: 50.37\n",
      "-----------------------------------------------------------------\n",
      "***** 9 ******\n",
      "* Train score: 96.34\n",
      "* Confusion matrix: \n",
      " [[209  24]\n",
      " [ 39   2]]\n",
      "* Accuracy: 77.01\n",
      "* ROC_AUC: 47.29\n",
      "-----------------------------------------------------------------\n",
      "***** 10 ******\n",
      "* Train score: 96.34\n",
      "* Confusion matrix: \n",
      " [[211  22]\n",
      " [ 38   3]]\n",
      "* Accuracy: 78.10\n",
      "* ROC_AUC: 48.94\n",
      "-----------------------------------------------------------------\n",
      "***** 11 ******\n",
      "* Train score: 96.46\n",
      "* Confusion matrix: \n",
      " [[217  16]\n",
      " [ 39   2]]\n",
      "* Accuracy: 79.93\n",
      "* ROC_AUC: 49.01\n",
      "-----------------------------------------------------------------\n",
      "***** 12 ******\n",
      "* Train score: 97.20\n",
      "* Confusion matrix: \n",
      " [[215  18]\n",
      " [ 38   3]]\n",
      "* Accuracy: 79.56\n",
      "* ROC_AUC: 49.80\n",
      "-----------------------------------------------------------------\n",
      "***** 13 ******\n",
      "* Train score: 97.32\n",
      "* Confusion matrix: \n",
      " [[216  17]\n",
      " [ 39   2]]\n",
      "* Accuracy: 79.56\n",
      "* ROC_AUC: 48.79\n",
      "-----------------------------------------------------------------\n",
      "***** 14 ******\n",
      "* Train score: 98.66\n",
      "* Confusion matrix: \n",
      " [[217  16]\n",
      " [ 36   5]]\n",
      "* Accuracy: 81.02\n",
      "* ROC_AUC: 52.66\n",
      "-----------------------------------------------------------------\n",
      "***** 15 ******\n",
      "* Train score: 98.90\n",
      "* Confusion matrix: \n",
      " [[214  19]\n",
      " [ 38   3]]\n",
      "* Accuracy: 79.20\n",
      "* ROC_AUC: 49.58\n",
      "-----------------------------------------------------------------\n",
      "***** 16 ******\n",
      "* Train score: 98.90\n",
      "* Confusion matrix: \n",
      " [[217  16]\n",
      " [ 37   4]]\n",
      "* Accuracy: 80.66\n",
      "* ROC_AUC: 51.44\n",
      "-----------------------------------------------------------------\n",
      "***** 17 ******\n",
      "* Train score: 99.02\n",
      "* Confusion matrix: \n",
      " [[221  12]\n",
      " [ 37   4]]\n",
      "* Accuracy: 82.12\n",
      "* ROC_AUC: 52.30\n",
      "-----------------------------------------------------------------\n",
      "***** 18 ******\n",
      "* Train score: 98.78\n",
      "* Confusion matrix: \n",
      " [[217  16]\n",
      " [ 37   4]]\n",
      "* Accuracy: 80.66\n",
      "* ROC_AUC: 51.44\n",
      "-----------------------------------------------------------------\n",
      "***** 19 ******\n",
      "* Train score: 98.66\n",
      "* Confusion matrix: \n",
      " [[222  11]\n",
      " [ 37   4]]\n",
      "* Accuracy: 82.48\n",
      "* ROC_AUC: 52.52\n",
      "-----------------------------------------------------------------\n",
      "***** 20 ******\n",
      "* Train score: 98.90\n",
      "* Confusion matrix: \n",
      " [[222  11]\n",
      " [ 37   4]]\n",
      "* Accuracy: 82.48\n",
      "* ROC_AUC: 52.52\n",
      "-----------------------------------------------------------------\n",
      "***** 21 ******\n",
      "* Train score: 98.78\n",
      "* Confusion matrix: \n",
      " [[221  12]\n",
      " [ 36   5]]\n",
      "* Accuracy: 82.48\n",
      "* ROC_AUC: 53.52\n",
      "-----------------------------------------------------------------\n",
      "***** 22 ******\n",
      "* Train score: 98.78\n",
      "* Confusion matrix: \n",
      " [[221  12]\n",
      " [ 36   5]]\n",
      "* Accuracy: 82.48\n",
      "* ROC_AUC: 53.52\n",
      "-----------------------------------------------------------------\n",
      "***** 23 ******\n",
      "* Train score: 99.02\n",
      "* Confusion matrix: \n",
      " [[219  14]\n",
      " [ 36   5]]\n",
      "* Accuracy: 81.75\n",
      "* ROC_AUC: 53.09\n",
      "-----------------------------------------------------------------\n",
      "***** 24 ******\n",
      "* Train score: 98.78\n",
      "* Confusion matrix: \n",
      " [[224   9]\n",
      " [ 35   6]]\n",
      "* Accuracy: 83.94\n",
      "* ROC_AUC: 55.39\n",
      "-----------------------------------------------------------------\n",
      "***** 25 ******\n",
      "* Train score: 98.90\n",
      "* Confusion matrix: \n",
      " [[217  16]\n",
      " [ 35   6]]\n",
      "* Accuracy: 81.39\n",
      "* ROC_AUC: 53.88\n",
      "-----------------------------------------------------------------\n",
      "***** 26 ******\n",
      "* Train score: 98.90\n",
      "* Confusion matrix: \n",
      " [[219  14]\n",
      " [ 36   5]]\n",
      "* Accuracy: 81.75\n",
      "* ROC_AUC: 53.09\n",
      "-----------------------------------------------------------------\n",
      "***** 27 ******\n",
      "* Train score: 98.90\n",
      "* Confusion matrix: \n",
      " [[219  14]\n",
      " [ 36   5]]\n",
      "* Accuracy: 81.75\n",
      "* ROC_AUC: 53.09\n",
      "-----------------------------------------------------------------\n",
      "***** 28 ******\n",
      "* Train score: 98.90\n",
      "* Confusion matrix: \n",
      " [[223  10]\n",
      " [ 36   5]]\n",
      "* Accuracy: 83.21\n",
      "* ROC_AUC: 53.95\n",
      "-----------------------------------------------------------------\n",
      "***** 29 ******\n",
      "* Train score: 99.02\n",
      "* Confusion matrix: \n",
      " [[223  10]\n",
      " [ 36   5]]\n",
      "* Accuracy: 83.21\n",
      "* ROC_AUC: 53.95\n",
      "-----------------------------------------------------------------\n",
      "***** 30 ******\n",
      "* Train score: 98.54\n",
      "* Confusion matrix: \n",
      " [[221  12]\n",
      " [ 36   5]]\n",
      "* Accuracy: 82.48\n",
      "* ROC_AUC: 53.52\n",
      "-----------------------------------------------------------------\n",
      "***** 31 ******\n",
      "* Train score: 98.78\n",
      "* Confusion matrix: \n",
      " [[221  12]\n",
      " [ 34   7]]\n",
      "* Accuracy: 83.21\n",
      "* ROC_AUC: 55.96\n",
      "-----------------------------------------------------------------\n",
      "***** 32 ******\n",
      "* Train score: 98.90\n",
      "* Confusion matrix: \n",
      " [[217  16]\n",
      " [ 36   5]]\n",
      "* Accuracy: 81.02\n",
      "* ROC_AUC: 52.66\n",
      "-----------------------------------------------------------------\n",
      "***** 33 ******\n",
      "* Train score: 99.15\n",
      "* Confusion matrix: \n",
      " [[219  14]\n",
      " [ 35   6]]\n",
      "* Accuracy: 82.12\n",
      "* ROC_AUC: 54.31\n",
      "-----------------------------------------------------------------\n",
      "***** 34 ******\n",
      "* Train score: 99.15\n",
      "* Confusion matrix: \n",
      " [[216  17]\n",
      " [ 36   5]]\n",
      "* Accuracy: 80.66\n",
      "* ROC_AUC: 52.45\n",
      "-----------------------------------------------------------------\n",
      "***** 35 ******\n",
      "* Train score: 99.02\n",
      "* Confusion matrix: \n",
      " [[218  15]\n",
      " [ 36   5]]\n",
      "* Accuracy: 81.39\n",
      "* ROC_AUC: 52.88\n",
      "-----------------------------------------------------------------\n",
      "***** 36 ******\n",
      "* Train score: 99.02\n",
      "* Confusion matrix: \n",
      " [[221  12]\n",
      " [ 36   5]]\n",
      "* Accuracy: 82.48\n",
      "* ROC_AUC: 53.52\n",
      "-----------------------------------------------------------------\n",
      "***** 37 ******\n",
      "* Train score: 98.66\n",
      "* Confusion matrix: \n",
      " [[221  12]\n",
      " [ 34   7]]\n",
      "* Accuracy: 83.21\n",
      "* ROC_AUC: 55.96\n",
      "-----------------------------------------------------------------\n",
      "***** 38 ******\n",
      "* Train score: 98.90\n",
      "* Confusion matrix: \n",
      " [[222  11]\n",
      " [ 37   4]]\n",
      "* Accuracy: 82.48\n",
      "* ROC_AUC: 52.52\n",
      "-----------------------------------------------------------------\n",
      "***** 39 ******\n",
      "* Train score: 99.02\n",
      "* Confusion matrix: \n",
      " [[222  11]\n",
      " [ 36   5]]\n",
      "* Accuracy: 82.85\n",
      "* ROC_AUC: 53.74\n",
      "-----------------------------------------------------------------\n",
      "***** 40 ******\n",
      "* Train score: 99.02\n",
      "* Confusion matrix: \n",
      " [[222  11]\n",
      " [ 37   4]]\n",
      "* Accuracy: 82.48\n",
      "* ROC_AUC: 52.52\n",
      "-----------------------------------------------------------------\n",
      "***** 41 ******\n",
      "* Train score: 98.90\n",
      "* Confusion matrix: \n",
      " [[225   8]\n",
      " [ 36   5]]\n",
      "* Accuracy: 83.94\n",
      "* ROC_AUC: 54.38\n",
      "-----------------------------------------------------------------\n",
      "***** 42 ******\n",
      "* Train score: 98.90\n",
      "* Confusion matrix: \n",
      " [[225   8]\n",
      " [ 36   5]]\n",
      "* Accuracy: 83.94\n",
      "* ROC_AUC: 54.38\n",
      "-----------------------------------------------------------------\n",
      "***** 43 ******\n",
      "* Train score: 99.02\n",
      "* Confusion matrix: \n",
      " [[223  10]\n",
      " [ 38   3]]\n",
      "* Accuracy: 82.48\n",
      "* ROC_AUC: 51.51\n",
      "-----------------------------------------------------------------\n",
      "***** 44 ******\n",
      "* Train score: 99.02\n",
      "* Confusion matrix: \n",
      " [[227   6]\n",
      " [ 36   5]]\n",
      "* Accuracy: 84.67\n",
      "* ROC_AUC: 54.81\n",
      "-----------------------------------------------------------------\n",
      "***** 45 ******\n",
      "* Train score: 99.15\n",
      "* Confusion matrix: \n",
      " [[226   7]\n",
      " [ 35   6]]\n",
      "* Accuracy: 84.67\n",
      "* ROC_AUC: 55.81\n",
      "-----------------------------------------------------------------\n",
      "***** 46 ******\n",
      "* Train score: 98.90\n",
      "* Confusion matrix: \n",
      " [[223  10]\n",
      " [ 37   4]]\n",
      "* Accuracy: 82.85\n",
      "* ROC_AUC: 52.73\n",
      "-----------------------------------------------------------------\n",
      "***** 47 ******\n"
     ]
    },
    {
     "name": "stdout",
     "output_type": "stream",
     "text": [
      "* Train score: 98.90\n",
      "* Confusion matrix: \n",
      " [[223  10]\n",
      " [ 37   4]]\n",
      "* Accuracy: 82.85\n",
      "* ROC_AUC: 52.73\n",
      "-----------------------------------------------------------------\n",
      "***** 48 ******\n",
      "* Train score: 98.90\n",
      "* Confusion matrix: \n",
      " [[223  10]\n",
      " [ 37   4]]\n",
      "* Accuracy: 82.85\n",
      "* ROC_AUC: 52.73\n",
      "-----------------------------------------------------------------\n",
      "***** 49 ******\n",
      "* Train score: 98.90\n",
      "* Confusion matrix: \n",
      " [[223  10]\n",
      " [ 37   4]]\n",
      "* Accuracy: 82.85\n",
      "* ROC_AUC: 52.73\n",
      "-----------------------------------------------------------------\n"
     ]
    }
   ],
   "source": [
    "for i in range(1,50):\n",
    "    print('*****',i,'******')\n",
    "    FS = SelectKBest(score_func=f_classif, k=i) \n",
    "    FS.fit(X_train, Y_train)\n",
    "    \n",
    "    X_train_FS = FS.transform(X_train)\n",
    "    X_test_FS = FS.transform(X_test)\n",
    "    \n",
    "    XGB_model=XGBClassifier(random_state=rs)\n",
    "\n",
    "    XGB_model.fit(X_train_FS,Y_train)\n",
    "\n",
    "    Y_predicted_XGB=XGB_model.predict(X_test_FS)\n",
    "\n",
    "    model_evaluation(XGB_model, Y_predicted_XGB, X_train_FS, Y_train, Y_test)\n",
    "    \n",
    "    print('-----------------------------------------------------------------')"
   ]
  },
  {
   "cell_type": "markdown",
   "id": "d87410b3",
   "metadata": {},
   "source": [
    "### 24 Features:"
   ]
  },
  {
   "cell_type": "code",
   "execution_count": 256,
   "id": "ab0c07c5",
   "metadata": {
    "scrolled": false
   },
   "outputs": [
    {
     "name": "stdout",
     "output_type": "stream",
     "text": [
      "**************XGB**************\n",
      "* Train score: 98.78\n",
      "* Confusion matrix: \n",
      " [[224   9]\n",
      " [ 35   6]]\n",
      "* Accuracy: 83.94\n",
      "* ROC_AUC: 55.39\n",
      "**************AdaBoost**************\n",
      "* Train score: 85.24\n",
      "* Confusion matrix: \n",
      " [[220  13]\n",
      " [ 39   2]]\n",
      "* Accuracy: 81.02\n",
      "* ROC_AUC: 49.65\n",
      "**************ExtraTree**************\n",
      "* Train score: 99.39\n",
      "* Confusion matrix: \n",
      " [[226   7]\n",
      " [ 38   3]]\n",
      "* Accuracy: 83.58\n",
      "* ROC_AUC: 52.16\n"
     ]
    }
   ],
   "source": [
    "FS = SelectKBest(score_func=f_classif, k=24) \n",
    "FS.fit(X_train, Y_train)    \n",
    "\n",
    "X_train_FS = FS.transform(X_train)\n",
    "X_test_FS = FS.transform(X_test)\n",
    "\n",
    "#XGB model  \n",
    "print(\"**************XGB**************\")\n",
    "XGB_model=XGBClassifier(random_state=rs)\n",
    "XGB_model.fit(X_train_FS,Y_train)\n",
    "Y_predicted_XGB=XGB_model.predict(X_test_FS)\n",
    "model_evaluation(XGB_model, Y_predicted_XGB, X_train_FS, Y_train, Y_test)\n",
    "\n",
    "#Adaboost Model\n",
    "print(\"**************AdaBoost**************\")\n",
    "XGB_model=AdaBoostClassifier(random_state=rs)\n",
    "XGB_model.fit(X_train_FS,Y_train)\n",
    "Y_predicted_XGB=XGB_model.predict(X_test_FS)\n",
    "model_evaluation(XGB_model, Y_predicted_XGB, X_train_FS, Y_train, Y_test)\n",
    "\n",
    "#Extraa Tree Model\n",
    "print(\"**************ExtraTree**************\")\n",
    "XGB_model=ExtraTreesClassifier(random_state=rs)\n",
    "XGB_model.fit(X_train_FS,Y_train)\n",
    "Y_predicted_XGB=XGB_model.predict(X_test_FS)\n",
    "model_evaluation(XGB_model, Y_predicted_XGB, X_train_FS, Y_train, Y_test)"
   ]
  },
  {
   "cell_type": "code",
   "execution_count": 257,
   "id": "11c21428",
   "metadata": {
    "scrolled": false
   },
   "outputs": [
    {
     "name": "stdout",
     "output_type": "stream",
     "text": [
      "Index(['age', 'hhsize', 'edu', 'asset_livestock', 'asset_durable',\n",
      "       'asset_savings', 'asset_land_owned_total', 'cons_alcohol',\n",
      "       'cons_tobacco', 'cons_social', 'ent_nonag_flowcost',\n",
      "       'ent_animalstockrev', 'ent_total_cost', 'fs_adwholed_often',\n",
      "       'nondurable_investment', 'amount_given_mpesa', 'amount_received_mpesa',\n",
      "       'net_mpesa', 'married', 'children', 'hh_children', 'ent_nonagbusiness',\n",
      "       'ent_employees', 'early_survey'],\n",
      "      dtype='object')\n"
     ]
    }
   ],
   "source": [
    "selectedfeatures = X_train.columns[(FS.get_support())]\n",
    "print(selectedfeatures)"
   ]
  },
  {
   "cell_type": "code",
   "execution_count": 258,
   "id": "1af969b7",
   "metadata": {},
   "outputs": [
    {
     "data": {
      "text/plain": [
       "24"
      ]
     },
     "execution_count": 258,
     "metadata": {},
     "output_type": "execute_result"
    }
   ],
   "source": [
    "len(selectedfeatures)"
   ]
  },
  {
   "cell_type": "markdown",
   "id": "ed060638",
   "metadata": {},
   "source": [
    "#### Saving the best 24 features "
   ]
  },
  {
   "cell_type": "code",
   "execution_count": 201,
   "id": "04d3d8df",
   "metadata": {},
   "outputs": [],
   "source": [
    "df24=df[['age', 'hhsize', 'edu', 'asset_livestock', 'asset_durable',\n",
    "       'asset_savings', 'asset_land_owned_total', 'cons_alcohol',\n",
    "       'cons_tobacco', 'cons_social', 'ent_nonag_flowcost',\n",
    "       'ent_animalstockrev', 'ent_total_cost', 'fs_adwholed_often',\n",
    "       'nondurable_investment', 'amount_given_mpesa', 'amount_received_mpesa',\n",
    "       'net_mpesa', 'married', 'children', 'hh_children', 'ent_nonagbusiness',\n",
    "       'ent_employees', 'early_survey', 'depressed']]"
   ]
  },
  {
   "cell_type": "code",
   "execution_count": 202,
   "id": "406be22a",
   "metadata": {},
   "outputs": [
    {
     "data": {
      "text/plain": [
       "(1094, 25)"
      ]
     },
     "execution_count": 202,
     "metadata": {},
     "output_type": "execute_result"
    }
   ],
   "source": [
    "df24.shape"
   ]
  },
  {
   "cell_type": "code",
   "execution_count": 203,
   "id": "2c31c74c",
   "metadata": {},
   "outputs": [],
   "source": [
    "df24.to_csv(\"Preprocessed_Depression_Dataset_24Features.csv\", index=False)"
   ]
  },
  {
   "cell_type": "markdown",
   "id": "9814d9e0",
   "metadata": {},
   "source": [
    "## 4. Model Building "
   ]
  },
  {
   "cell_type": "code",
   "execution_count": 264,
   "id": "3fc5d337",
   "metadata": {},
   "outputs": [
    {
     "data": {
      "text/plain": [
       "(1094, 25)"
      ]
     },
     "execution_count": 264,
     "metadata": {},
     "output_type": "execute_result"
    }
   ],
   "source": [
    "#read the cleaned dataset\n",
    "df=pd.read_csv(\"Preprocessed_Depression_Dataset_24Features.csv\")\n",
    "df.shape"
   ]
  },
  {
   "cell_type": "code",
   "execution_count": 265,
   "id": "75c9091d",
   "metadata": {},
   "outputs": [
    {
     "name": "stdout",
     "output_type": "stream",
     "text": [
      "Features shape:  (1094, 24)\n",
      "Class shape:  (1094,)\n"
     ]
    }
   ],
   "source": [
    "#Determining the Features and Target Class\n",
    "X=df.iloc[:,:-1]\n",
    "Y=df['depressed'] #Specify the class\n",
    "print(\"Features shape: \", X.shape)\n",
    "print(\"Class shape: \", Y.shape)\n",
    "\n",
    "#define maximum no. of features:\n",
    "maxfeature=X.shape[1]"
   ]
  },
  {
   "cell_type": "markdown",
   "id": "feb3fd8f",
   "metadata": {},
   "source": [
    "### 4.1. Train-Test Split"
   ]
  },
  {
   "cell_type": "code",
   "execution_count": 266,
   "id": "956ff724",
   "metadata": {},
   "outputs": [],
   "source": [
    "X_train,X_test,Y_train,Y_test=train_test_split(X,Y, test_size=0.2 ,random_state=rs)"
   ]
  },
  {
   "cell_type": "code",
   "execution_count": 218,
   "id": "abd58574",
   "metadata": {},
   "outputs": [
    {
     "name": "stdout",
     "output_type": "stream",
     "text": [
      "Y train: \n",
      " 0    728\n",
      "1    147\n",
      "Name: depressed, dtype: int64\n"
     ]
    }
   ],
   "source": [
    "print('Y train: \\n', Y_train.value_counts())"
   ]
  },
  {
   "cell_type": "code",
   "execution_count": 219,
   "id": "6c238eab",
   "metadata": {},
   "outputs": [
    {
     "name": "stdout",
     "output_type": "stream",
     "text": [
      "Y test: \n",
      " 0    183\n",
      "1     36\n",
      "Name: depressed, dtype: int64\n"
     ]
    }
   ],
   "source": [
    "print('Y test: \\n', Y_test.value_counts())"
   ]
  },
  {
   "cell_type": "markdown",
   "id": "2b886b69",
   "metadata": {},
   "source": [
    "### 4.2. Undersampling using NearMiss"
   ]
  },
  {
   "cell_type": "code",
   "execution_count": 220,
   "id": "25db6d23",
   "metadata": {},
   "outputs": [
    {
     "name": "stdout",
     "output_type": "stream",
     "text": [
      "0    147\n",
      "1    147\n",
      "Name: depressed, dtype: int64\n"
     ]
    }
   ],
   "source": [
    "nearmiss = NearMiss(version=1, n_neighbors=11)\n",
    "X_train, Y_train = nearmiss.fit_resample(X_train, Y_train)\n",
    "print(Y_train.value_counts())"
   ]
  },
  {
   "cell_type": "code",
   "execution_count": 221,
   "id": "cc42183c",
   "metadata": {},
   "outputs": [
    {
     "name": "stdout",
     "output_type": "stream",
     "text": [
      "0    36\n",
      "1    36\n",
      "Name: depressed, dtype: int64\n"
     ]
    }
   ],
   "source": [
    "X_test, Y_test = nearmiss.fit_resample(X_test, Y_test)\n",
    "print(Y_test.value_counts())"
   ]
  },
  {
   "cell_type": "code",
   "execution_count": 222,
   "id": "98a1998c",
   "metadata": {},
   "outputs": [
    {
     "data": {
      "text/plain": [
       "0    911\n",
       "1    183\n",
       "Name: depressed, dtype: int64"
      ]
     },
     "execution_count": 222,
     "metadata": {},
     "output_type": "execute_result"
    }
   ],
   "source": [
    "Y.value_counts()"
   ]
  },
  {
   "cell_type": "markdown",
   "id": "36878cc7",
   "metadata": {},
   "source": [
    "### 4.3. Modeling"
   ]
  },
  {
   "cell_type": "markdown",
   "id": "c3facf8f",
   "metadata": {},
   "source": [
    "#### 4.3.1. Support Vector Machine (SVM)"
   ]
  },
  {
   "cell_type": "code",
   "execution_count": 223,
   "id": "1278266f",
   "metadata": {},
   "outputs": [
    {
     "name": "stdout",
     "output_type": "stream",
     "text": [
      "* Train score: 73.47\n",
      "* Confusion matrix: \n",
      " [[36  0]\n",
      " [20 16]]\n",
      "* Accuracy: 72.22\n",
      "* ROC_AUC: 72.22\n"
     ]
    }
   ],
   "source": [
    "SVM_model=SVC(random_state=rs)\n",
    "\n",
    "SVM_model.fit(X_train,Y_train)\n",
    "\n",
    "Y_predicted_SVM=SVM_model.predict(X_test)\n",
    "\n",
    "model_evaluation(SVM_model, Y_predicted_SVM, X_train, Y_train, Y_test)"
   ]
  },
  {
   "cell_type": "markdown",
   "id": "446b9912",
   "metadata": {},
   "source": [
    "#### 4.3.1.1 Hyperparameter Tuning"
   ]
  },
  {
   "cell_type": "code",
   "execution_count": 224,
   "id": "60bcf67d",
   "metadata": {},
   "outputs": [],
   "source": [
    "param2={'C':[1.0, 2, 3, 4, 5, 6, 7],\n",
    "'gamma': [0.1, 0.01, 0.001, 0.0001,0.0001, 'scale', 'auto'],\n",
    "'kernel':['rbf', 'sigmoid', 'linear']} "
   ]
  },
  {
   "cell_type": "code",
   "execution_count": 225,
   "id": "02911734",
   "metadata": {},
   "outputs": [
    {
     "data": {
      "text/plain": [
       "GridSearchCV(cv=StratifiedKFold(n_splits=10, random_state=None, shuffle=False),\n",
       "             estimator=SVC(random_state=123),\n",
       "             param_grid={'C': [1.0, 2, 3, 4, 5, 6, 7],\n",
       "                         'gamma': [0.1, 0.01, 0.001, 0.0001, 0.0001, 'scale',\n",
       "                                   'auto'],\n",
       "                         'kernel': ['rbf', 'sigmoid', 'linear']})"
      ]
     },
     "execution_count": 225,
     "metadata": {},
     "output_type": "execute_result"
    }
   ],
   "source": [
    "svm = GridSearchCV(SVM_model, param2, cv=kf)\n",
    "svm.fit(X_train, Y_train)"
   ]
  },
  {
   "cell_type": "code",
   "execution_count": 226,
   "id": "b14754e5",
   "metadata": {},
   "outputs": [
    {
     "name": "stdout",
     "output_type": "stream",
     "text": [
      "0.8537931034482759\n",
      "SVC(C=4, gamma=0.1, random_state=123)\n"
     ]
    }
   ],
   "source": [
    "svm_best=svm.best_estimator_\n",
    "print(svm.best_score_)\n",
    "print(svm.best_estimator_)"
   ]
  },
  {
   "cell_type": "code",
   "execution_count": 227,
   "id": "cff31a86",
   "metadata": {},
   "outputs": [
    {
     "name": "stdout",
     "output_type": "stream",
     "text": [
      "* Train score: 88.10\n",
      "* Confusion matrix: \n",
      " [[32  4]\n",
      " [ 8 28]]\n",
      "* Accuracy: 83.33\n",
      "* ROC_AUC: 83.33\n"
     ]
    }
   ],
   "source": [
    "SVM_model_OPT=svm_best\n",
    "\n",
    "SVM_model_OPT.fit(X_train,Y_train)\n",
    "\n",
    "Y_predicted_SVMOPT=SVM_model_OPT.predict(X_test)\n",
    "\n",
    "model_evaluation(SVM_model_OPT, Y_predicted_SVMOPT, X_train, Y_train, Y_test)"
   ]
  },
  {
   "cell_type": "markdown",
   "id": "ba2bb3c9",
   "metadata": {},
   "source": [
    "#### 4.3.2.  Decision Tree (DT)"
   ]
  },
  {
   "cell_type": "code",
   "execution_count": 228,
   "id": "cf6f2cd5",
   "metadata": {},
   "outputs": [
    {
     "name": "stdout",
     "output_type": "stream",
     "text": [
      "* Train score: 98.30\n",
      "* Confusion matrix: \n",
      " [[30  6]\n",
      " [ 8 28]]\n",
      "* Accuracy: 80.56\n",
      "* ROC_AUC: 80.56\n"
     ]
    }
   ],
   "source": [
    "DT_model=DecisionTreeClassifier(random_state=rs)\n",
    "\n",
    "DT_model.fit(X_train,Y_train)\n",
    "\n",
    "Y_predicted_DT=DT_model.predict(X_test)\n",
    "\n",
    "model_evaluation(DT_model, Y_predicted_DT, X_train, Y_train, Y_test)"
   ]
  },
  {
   "cell_type": "markdown",
   "id": "470b0add",
   "metadata": {},
   "source": [
    "#### 4.3.2.1. Hyperparameter Tuning"
   ]
  },
  {
   "cell_type": "code",
   "execution_count": 229,
   "id": "6aebf0c0",
   "metadata": {},
   "outputs": [],
   "source": [
    "param3={'max_features': ['auto', 'sqrt', 'log2', None],\n",
    "'criterion' :['gini', 'entropy'],\n",
    "'splitter':['best', 'random'],\n",
    "'max_depth':[1, 2, 3, 4, 5, 6, 7, 8, 9, 10, 12, 15, 18, 20, 23, 25, 27, 30, 31, None]}"
   ]
  },
  {
   "cell_type": "code",
   "execution_count": 230,
   "id": "fc51fa4c",
   "metadata": {},
   "outputs": [
    {
     "data": {
      "text/plain": [
       "GridSearchCV(cv=StratifiedKFold(n_splits=10, random_state=None, shuffle=False),\n",
       "             estimator=DecisionTreeClassifier(random_state=123),\n",
       "             param_grid={'criterion': ['gini', 'entropy'],\n",
       "                         'max_depth': [1, 2, 3, 4, 5, 6, 7, 8, 9, 10, 12, 15,\n",
       "                                       18, 20, 23, 25, 27, 30, 31, None],\n",
       "                         'max_features': ['auto', 'sqrt', 'log2', None],\n",
       "                         'splitter': ['best', 'random']})"
      ]
     },
     "execution_count": 230,
     "metadata": {},
     "output_type": "execute_result"
    }
   ],
   "source": [
    "dt = GridSearchCV(DT_model, param3, cv=kf)\n",
    "dt.fit(X_train, Y_train)"
   ]
  },
  {
   "cell_type": "code",
   "execution_count": 231,
   "id": "c00066bd",
   "metadata": {},
   "outputs": [
    {
     "name": "stdout",
     "output_type": "stream",
     "text": [
      "0.836551724137931\n",
      "DecisionTreeClassifier(criterion='entropy', max_depth=5, max_features='auto',\n",
      "                       random_state=123)\n"
     ]
    }
   ],
   "source": [
    "dt_best=dt.best_estimator_\n",
    "print(dt.best_score_)\n",
    "print(dt.best_estimator_)"
   ]
  },
  {
   "cell_type": "code",
   "execution_count": 232,
   "id": "98812e15",
   "metadata": {},
   "outputs": [
    {
     "name": "stdout",
     "output_type": "stream",
     "text": [
      "* Train score: 86.05\n",
      "* Confusion matrix: \n",
      " [[31  5]\n",
      " [11 25]]\n",
      "* Accuracy: 77.78\n",
      "* ROC_AUC: 77.78\n"
     ]
    }
   ],
   "source": [
    "DT_model_OPT=dt_best\n",
    "\n",
    "DT_model_OPT.fit(X_train,Y_train)\n",
    "\n",
    "Y_predicted_DTOPT=DT_model_OPT.predict(X_test)\n",
    "\n",
    "model_evaluation(DT_model_OPT, Y_predicted_DTOPT, X_train, Y_train, Y_test)"
   ]
  },
  {
   "cell_type": "markdown",
   "id": "dc29787b",
   "metadata": {},
   "source": [
    "#### 4.3.3.  k-Nearst Neighbor (k-NN)"
   ]
  },
  {
   "cell_type": "code",
   "execution_count": 233,
   "id": "e488e541",
   "metadata": {},
   "outputs": [
    {
     "name": "stdout",
     "output_type": "stream",
     "text": [
      "* Train score: 85.37\n",
      "* Confusion matrix: \n",
      " [[34  2]\n",
      " [ 9 27]]\n",
      "* Accuracy: 84.72\n",
      "* ROC_AUC: 84.72\n"
     ]
    }
   ],
   "source": [
    "KNN_model=KNeighborsClassifier()\n",
    "\n",
    "KNN_model.fit(X_train,Y_train)\n",
    "\n",
    "Y_predicted_KNN=KNN_model.predict(X_test)\n",
    "\n",
    "model_evaluation(KNN_model, Y_predicted_KNN, X_train, Y_train, Y_test)"
   ]
  },
  {
   "cell_type": "markdown",
   "id": "4ce3db8f",
   "metadata": {},
   "source": [
    "#### 4.3.3.1. Hyperparameter Tuning"
   ]
  },
  {
   "cell_type": "code",
   "execution_count": 234,
   "id": "83f8a02b",
   "metadata": {},
   "outputs": [],
   "source": [
    "param4={'n_neighbors':[5, 7, 9, 11, 13, 15, 17, 19, 21, 23, 25, 27, 29, 31, 33, 35, 37, 39],\n",
    "'metric':['minkowski', 'euclidean',' manhattan']}"
   ]
  },
  {
   "cell_type": "code",
   "execution_count": 235,
   "id": "31dd01a2",
   "metadata": {},
   "outputs": [
    {
     "data": {
      "text/plain": [
       "GridSearchCV(cv=StratifiedKFold(n_splits=10, random_state=None, shuffle=False),\n",
       "             estimator=KNeighborsClassifier(),\n",
       "             param_grid={'metric': ['minkowski', 'euclidean', ' manhattan'],\n",
       "                         'n_neighbors': [5, 7, 9, 11, 13, 15, 17, 19, 21, 23,\n",
       "                                         25, 27, 29, 31, 33, 35, 37, 39]})"
      ]
     },
     "execution_count": 235,
     "metadata": {},
     "output_type": "execute_result"
    }
   ],
   "source": [
    "knn = GridSearchCV(KNN_model, param4, cv=kf)\n",
    "knn.fit(X_train, Y_train)"
   ]
  },
  {
   "cell_type": "code",
   "execution_count": 236,
   "id": "a1a5b33f",
   "metadata": {},
   "outputs": [
    {
     "name": "stdout",
     "output_type": "stream",
     "text": [
      "0.8301149425287356\n",
      "KNeighborsClassifier(n_neighbors=7)\n"
     ]
    }
   ],
   "source": [
    "knn_best=knn.best_estimator_\n",
    "print(knn.best_score_)\n",
    "print(knn.best_estimator_)"
   ]
  },
  {
   "cell_type": "code",
   "execution_count": 237,
   "id": "c863894a",
   "metadata": {
    "scrolled": true
   },
   "outputs": [
    {
     "name": "stdout",
     "output_type": "stream",
     "text": [
      "* Train score: 84.35\n",
      "* Confusion matrix: \n",
      " [[33  3]\n",
      " [10 26]]\n",
      "* Accuracy: 81.94\n",
      "* ROC_AUC: 81.94\n"
     ]
    }
   ],
   "source": [
    "KNN_model_OPT=knn_best\n",
    "\n",
    "KNN_model_OPT.fit(X_train,Y_train)\n",
    "\n",
    "Y_predicted_KNNOPT=KNN_model_OPT.predict(X_test)\n",
    "\n",
    "model_evaluation(KNN_model_OPT, Y_predicted_KNNOPT, X_train, Y_train, Y_test)"
   ]
  },
  {
   "cell_type": "markdown",
   "id": "a19ea797",
   "metadata": {},
   "source": [
    "#### Download the best model"
   ]
  },
  {
   "cell_type": "code",
   "execution_count": 240,
   "id": "b94c29c8",
   "metadata": {},
   "outputs": [],
   "source": [
    "import pickle\n",
    "with open('model.pkl', 'wb') as file:\n",
    "    pickle.dump(SVM_model_OPT, file)"
   ]
  },
  {
   "cell_type": "markdown",
   "id": "a3c184e7",
   "metadata": {},
   "source": [
    "### Result"
   ]
  },
  {
   "cell_type": "markdown",
   "id": "d3a0d7cf",
   "metadata": {},
   "source": [
    "This section compares the performance of three different machine learning models: K-Nearest Neighbors (KNN), Decision Tree (DT), and Support Vector Machine (SVM). The results are evaluated based on the training score, confusion matrix, accuracy, and ROC AUC.\n",
    "\n",
    "The KNN model shows a good performance with an accuracy of 81.94% on the test set. It correctly identified 33 non-depressed and 26 depressed cases, with 13 misclassifications (3 false positives and 10 false negatives). The train score of 84.35% indicates that the model performs well on the training data as well. The ROC AUC score of 81.94% is consistent with the accuracy, indicating a reliable performance.\n",
    "\n",
    "The DT model has a slightly lower accuracy of 77.78% compared to the KNN model. It correctly predicted 31 non-depressed and 25 depressed cases, with 16 misclassifications (5 false positives and 11 false negatives). The train score of 86.05% suggests the model fits the training data well. The ROC AUC score of 77.78% aligns with the accuracy, indicating a somewhat lower performance compared to KNN and SVM.\n",
    "\n",
    "The SVM model achieved the highest accuracy of 83.33% on the test set. It correctly identified 32 non-depressed and 28 depressed cases, with 12 misclassifications (4 false positives and 8 false negatives). The train score of 88.10% indicates that the model performs the best on the training data among the three models. The ROC AUC score of 83.33% is the highest, reflecting the model's strong performance in distinguishing between depressed and non-depressed cases.\n",
    "\n",
    "Among the three models evaluated, the SVM model demonstrates the best performance with the highest accuracy (83.33%) and ROC AUC score (83.33%). The KNN model also performs well with an accuracy of 81.94% and ROC AUC of 81.94%. The DT model, while having a good train score, has the lowest test accuracy (77.78%) and ROC AUC score (77.78%) among the three models. These results suggest that the SVM model is the most effective for predicting depression in this dataset."
   ]
  },
  {
   "cell_type": "markdown",
   "id": "417a0532",
   "metadata": {},
   "source": [
    "#### Reflection\n",
    "In this project, I have tackled the problem of predicting depression using a dataset from Zindi. The end-to-end solution involved data preprocessing, feature selection, model training, and evaluation. I have evaluated three machine learning models: K-Nearest Neighbors (KNN), Decision Tree (DT), and Support Vector Machine (SVM). The SVM model demonstrated the best performance with an accuracy of 83.33% and an ROC AUC score of 83.33%.\n",
    "\n",
    "One interesting aspect of this project was handling the class imbalance in the dataset, which significantly influenced model performance. Implementing feature selection using the wrapping technique was also challenging but crucial for improving model accuracy and interpretability.\n",
    "\n",
    "#### Improvement\n",
    "For future research, the following improvements can be made:\n",
    "1. **Advanced Feature Engineering**: Explore more advanced feature engineering techniques to enhance model performance.\n",
    "2. **Handling Class Imbalance**: Implement resampling methods such as SMOTE or use ensemble methods like Random Forest or XGBoost that handle imbalanced datasets effectively.\n",
    "3. **Cross-Validation**: Employ cross-validation techniques to ensure model robustness and generalizability.\n",
    "4. **Hyperparameter Tuning**: Perform more extensive hyperparameter tuning using grid search or random search to optimize model performance.\n",
    "\n",
    "These improvements can help achieve better accuracy and more reliable predictions in future experiments."
   ]
  }
 ],
 "metadata": {
  "kernelspec": {
   "display_name": "Python 3 (ipykernel)",
   "language": "python",
   "name": "python3"
  },
  "language_info": {
   "codemirror_mode": {
    "name": "ipython",
    "version": 3
   },
   "file_extension": ".py",
   "mimetype": "text/x-python",
   "name": "python",
   "nbconvert_exporter": "python",
   "pygments_lexer": "ipython3",
   "version": "3.9.13"
  }
 },
 "nbformat": 4,
 "nbformat_minor": 5
}
